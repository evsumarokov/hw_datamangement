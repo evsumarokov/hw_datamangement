{
 "cells": [
  {
   "cell_type": "markdown",
   "metadata": {},
   "source": [
    "# HW1 Простые задачи на теорию вероятностей\n",
    "\n",
    "Решать задачи по терверу можно с помощью книжки [Теория вероятностей и математическая статистика : Базовый курс с примерами и задачами: учебное пособие Кибзун А.](https://biblioclub.ru/index.php?page=book&id=69320)\n",
    "\n",
    "Определить вероятность того, что случайно выбранный студент девочка. В группе 10 студентов, из которых 2 девочки"
   ]
  },
  {
   "cell_type": "code",
   "execution_count": 4,
   "metadata": {},
   "outputs": [
    {
     "name": "stdout",
     "output_type": "stream",
     "text": [
      "задача 1: P(A) = 0.20\n"
     ]
    }
   ],
   "source": [
    "import math\n",
    "# событие А: случайно выбранный студент - девочка\n",
    "# число случаев\n",
    "n = 10\n",
    "# число благоприятных исходов m: 2\n",
    "m = 2\n",
    "\n",
    "def task_1(num_students, num_girls):\n",
    "    # вычисляем вероятность\n",
    "    proba = num_girls / num_students\n",
    "    return proba\n",
    "\n",
    "proba = task_1(num_students=n, num_girls=m)\n",
    "print(f\"задача 1: P(A) = {proba:.2f}\")"
   ]
  },
  {
   "cell_type": "code",
   "execution_count": 5,
   "metadata": {},
   "outputs": [
    {
     "name": "stderr",
     "output_type": "stream",
     "text": [
      "test_task (__main__.TestNotebook) ... ok\n",
      "\n",
      "----------------------------------------------------------------------\n",
      "Ran 1 test in 0.001s\n",
      "\n",
      "OK\n"
     ]
    },
    {
     "data": {
      "text/plain": [
       "<unittest.main.TestProgram at 0x7fd4b0573160>"
      ]
     },
     "execution_count": 5,
     "metadata": {},
     "output_type": "execute_result"
    }
   ],
   "source": [
    "import unittest\n",
    "\n",
    "\n",
    "class TestNotebook(unittest.TestCase):\n",
    "    def test_task(self):\n",
    "        self.assertEqual(task_1(num_students=10, num_girls=2), 0.2)\n",
    "\n",
    "unittest.main(argv=[''], verbosity=2, exit=False)"
   ]
  },
  {
   "cell_type": "markdown",
   "metadata": {},
   "source": [
    "В отеле 20 номеров, из которых 12 выходят на море. В гостиницу заселяются 12 девочек и 8 мальчиков. Ключи с видом на море выдают в начале. Какова вероятность события, что все девочки будут жить в номерах с видом на море"
   ]
  },
  {
   "cell_type": "code",
   "execution_count": 24,
   "metadata": {},
   "outputs": [
    {
     "name": "stdout",
     "output_type": "stream",
     "text": [
      "задача 1: P(A) = 0.0000079384\n"
     ]
    }
   ],
   "source": [
    "def task_2(sea_rooms, num_boys, num_girls):\n",
    "    # число случаев\n",
    "    n = math.factorial(num_boys + num_girls)\n",
    "    # число благоприятных исходов m\n",
    "    m = math.factorial(sea_rooms)*math.factorial(num_boys)\n",
    "    # вычисляем вероятность\n",
    "    proba = m / n\n",
    "    return proba\n",
    "\n",
    "# событие А: последовательность людей, где первые 8 - девочки\n",
    "proba = task_2(sea_rooms=12, num_boys=8, num_girls=12)\n",
    "\n",
    "print(f\"задача 1: P(A) = {proba:.10f}\")"
   ]
  },
  {
   "cell_type": "code",
   "execution_count": 25,
   "metadata": {},
   "outputs": [
    {
     "name": "stderr",
     "output_type": "stream",
     "text": [
      "test_task (__main__.TestNotebook) ... ok\n",
      "\n",
      "----------------------------------------------------------------------\n",
      "Ran 1 test in 0.001s\n",
      "\n",
      "OK\n"
     ]
    },
    {
     "data": {
      "text/plain": [
       "<unittest.main.TestProgram at 0x7fd4b046c208>"
      ]
     },
     "execution_count": 25,
     "metadata": {},
     "output_type": "execute_result"
    }
   ],
   "source": [
    "import unittest\n",
    "\n",
    "\n",
    "class TestNotebook(unittest.TestCase):\n",
    "    def test_task(self):\n",
    "        self.assertAlmostEqual(task_2(sea_rooms=12, num_boys=8, num_girls=12), 0.0000079384, places=11)\n",
    "\n",
    "unittest.main(argv=[''], verbosity=2, exit=False)"
   ]
  },
  {
   "cell_type": "markdown",
   "metadata": {},
   "source": [
    "На полке стоят три тома. Найти вероятность того, что книги стоят в верном порядке."
   ]
  },
  {
   "cell_type": "code",
   "execution_count": 26,
   "metadata": {},
   "outputs": [
    {
     "name": "stdout",
     "output_type": "stream",
     "text": [
      "задача 1: P(A) = 0.333\n"
     ]
    }
   ],
   "source": [
    "def task_3():\n",
    "    # общее число случаев\n",
    "    n = math.factorial(3)\n",
    "    # число благоприятных исходов m\n",
    "    m = 2\n",
    "    # вычисляем вероятность\n",
    "    proba = m / n\n",
    "    return proba\n",
    "\n",
    "# событие А: тома не перемешаны\n",
    "proba = task_3()\n",
    "\n",
    "print(f\"задача 1: P(A) = {proba:.3f}\")"
   ]
  },
  {
   "cell_type": "code",
   "execution_count": 27,
   "metadata": {},
   "outputs": [
    {
     "name": "stderr",
     "output_type": "stream",
     "text": [
      "test_task (__main__.TestNotebook) ... ok\n",
      "\n",
      "----------------------------------------------------------------------\n",
      "Ran 1 test in 0.001s\n",
      "\n",
      "OK\n"
     ]
    },
    {
     "data": {
      "text/plain": [
       "<unittest.main.TestProgram at 0x7fd4b04cc860>"
      ]
     },
     "execution_count": 27,
     "metadata": {},
     "output_type": "execute_result"
    }
   ],
   "source": [
    "import unittest\n",
    "\n",
    "\n",
    "class TestNotebook(unittest.TestCase):\n",
    "    def test_task(self):\n",
    "        self.assertAlmostEqual(task_3(), 0.333, places=3)\n",
    "\n",
    "unittest.main(argv=[''], verbosity=2, exit=False)"
   ]
  },
  {
   "cell_type": "markdown",
   "metadata": {},
   "source": [
    "Бросают две монеты. Что более вероятно - что монеты выпадут одноимёнными сторонами, или разноимёнными."
   ]
  },
  {
   "cell_type": "code",
   "execution_count": 23,
   "metadata": {},
   "outputs": [
    {
     "name": "stdout",
     "output_type": "stream",
     "text": [
      "Одноимённые 0.5 Разноимённые 0.5\n"
     ]
    }
   ],
   "source": [
    "def task_4_same():\n",
    "    m = 2\n",
    "    n = 4\n",
    "    return m/n\n",
    "\n",
    "def task_4_opposite():\n",
    "    m = 2\n",
    "    n = 4\n",
    "    return m/n\n",
    "\n",
    "print(f'Одноимённые {task_4_same()} Разноимённые {task_4_opposite()}')"
   ]
  },
  {
   "cell_type": "code",
   "execution_count": 40,
   "metadata": {},
   "outputs": [
    {
     "name": "stderr",
     "output_type": "stream",
     "text": [
      "test_task (__main__.TestNotebook) ... ok\n",
      "\n",
      "----------------------------------------------------------------------\n",
      "Ran 1 test in 0.007s\n",
      "\n",
      "OK\n"
     ]
    },
    {
     "data": {
      "text/plain": [
       "<unittest.main.TestProgram at 0x7fe6384251d0>"
      ]
     },
     "execution_count": 40,
     "metadata": {},
     "output_type": "execute_result"
    }
   ],
   "source": [
    "import unittest\n",
    "\n",
    "\n",
    "class TestNotebook(unittest.TestCase):\n",
    "    def test_task(self):\n",
    "        self.assertEqual(task_4_opposite(), task_4_same())\n",
    "\n",
    "unittest.main(argv=[''], verbosity=2, exit=False)"
   ]
  },
  {
   "cell_type": "markdown",
   "metadata": {},
   "source": [
    "На столе лежат 100 карточек числами от $1$ до $100$. Какова вероятность, что наугад выбранная карта содержит \n",
    "1. 0 \n",
    "1. 5"
   ]
  },
  {
   "cell_type": "code",
   "execution_count": 30,
   "metadata": {},
   "outputs": [
    {
     "name": "stdout",
     "output_type": "stream",
     "text": [
      "p=0.10\n",
      "p=0.19\n"
     ]
    }
   ],
   "source": [
    "def task_5_1():\n",
    "    m = 10\n",
    "    n = 100\n",
    "    return m/n\n",
    "\n",
    "def task_5_2():\n",
    "    m = 19\n",
    "    n = 100\n",
    "    return m/n\n",
    "\n",
    "\n",
    "proba = task_5_1()\n",
    "print(f'p={proba:.2f}')\n",
    "\n",
    "proba = task_5_2()\n",
    "print(f'p={proba:.2f}')"
   ]
  },
  {
   "cell_type": "code",
   "execution_count": 31,
   "metadata": {},
   "outputs": [
    {
     "name": "stderr",
     "output_type": "stream",
     "text": [
      "test_task (__main__.TestNotebook) ... ok\n",
      "\n",
      "----------------------------------------------------------------------\n",
      "Ran 1 test in 0.001s\n",
      "\n",
      "OK\n"
     ]
    },
    {
     "data": {
      "text/plain": [
       "<unittest.main.TestProgram at 0x7fd4b046c0f0>"
      ]
     },
     "execution_count": 31,
     "metadata": {},
     "output_type": "execute_result"
    }
   ],
   "source": [
    "import unittest\n",
    "\n",
    "\n",
    "class TestNotebook(unittest.TestCase):\n",
    "    def test_task(self):\n",
    "        self.assertAlmostEqual(task_5_1(), 0.1, places=3)\n",
    "        self.assertAlmostEqual(task_5_2(), 0.19, places=3)\n",
    "\n",
    "unittest.main(argv=[''], verbosity=2, exit=False)"
   ]
  },
  {
   "cell_type": "markdown",
   "metadata": {},
   "source": [
    "На столе лежат три письма и три конверта. Какова вероятность, что по адресу попадут\n",
    "1. Ни одно\n",
    "1. Ровно одно\n",
    "1. Ровно два"
   ]
  },
  {
   "cell_type": "code",
   "execution_count": 111,
   "metadata": {},
   "outputs": [
    {
     "name": "stdout",
     "output_type": "stream",
     "text": [
      "p=0.296\n",
      "p=0.148\n",
      "p=0.074\n"
     ]
    }
   ],
   "source": [
    "# ---- ВАШ КОД ТУТ ---\n",
    "letter=3\n",
    "envelope=3\n",
    "def task_6_1():\n",
    "    a=envelope-1 #число благоприятных исходов\n",
    "    b = envelope #число исходов\n",
    "    n = a/b #вероятность выбора неправильного конверта для одного письма\n",
    "    m = letter #число выборов\n",
    "    return n**m\n",
    "\n",
    "def task_6_2():\n",
    "    a = envelope-1 #число благоприятных исходов неправильный коверт\n",
    "    b = letter #число исходов\n",
    "    c =  envelope-2 #число благоприятных исходов правильный коверт\n",
    "    n = a/b #вероятность выбора неправильного конверта для одного письма\n",
    "    d = c/b #вероятность выбора неправильного конверта для одного письма\n",
    "    m = envelope-1 #число выборов неправильных конвертов\n",
    "    return n**m*d\n",
    "\n",
    "def task_6_3():\n",
    "    a = envelope-2 #число благоприятных исходов неправильный коверт\n",
    "    b = letter #число исходов\n",
    "    c =  envelope-1 #число благоприятных исходов правильный коверт\n",
    "    n = a/b #вероятность выбора неправильного конверта для одного письма\n",
    "    d = c/b #вероятность выбора неправильного конверта для одного письма\n",
    "    m = envelope-1 #число выборов неправильных конвертов\n",
    "    return n**m*d\n",
    "\n",
    "# --------------------\n",
    "\n",
    "proba = task_6_1()\n",
    "print(f'p={proba:.3f}')\n",
    "\n",
    "proba = task_6_2()\n",
    "print(f'p={proba:.3f}')\n",
    "\n",
    "proba = task_6_3()\n",
    "print(f'p={proba:.3f}')"
   ]
  },
  {
   "cell_type": "code",
   "execution_count": 112,
   "metadata": {},
   "outputs": [
    {
     "name": "stderr",
     "output_type": "stream",
     "text": [
      "test_task (__main__.TestNotebook) ... ok\n",
      "\n",
      "----------------------------------------------------------------------\n",
      "Ran 1 test in 0.001s\n",
      "\n",
      "OK\n"
     ]
    },
    {
     "data": {
      "text/plain": [
       "<unittest.main.TestProgram at 0x7fd4b0497208>"
      ]
     },
     "execution_count": 112,
     "metadata": {},
     "output_type": "execute_result"
    }
   ],
   "source": [
    "import unittest\n",
    "\n",
    "\n",
    "class TestNotebook(unittest.TestCase):\n",
    "    def test_task(self):\n",
    "        self.assertAlmostEqual(task_6_1(), 0.296, places=3)\n",
    "        self.assertAlmostEqual(task_6_2(), 0.148, places=3)\n",
    "        self.assertAlmostEqual(task_6_3(), 0.074, places=3)\n",
    "\n",
    "unittest.main(argv=[''], verbosity=2, exit=False)"
   ]
  },
  {
   "cell_type": "markdown",
   "metadata": {},
   "source": [
    "Из карточек {1,2,3,4,5} собирают 5-ти значное число. Найти вероятность того, что число чётное (размещения)"
   ]
  },
  {
   "cell_type": "code",
   "execution_count": 152,
   "metadata": {},
   "outputs": [
    {
     "name": "stdout",
     "output_type": "stream",
     "text": [
      "p=0.20\n"
     ]
    }
   ],
   "source": [
    "# ---- ВАШ КОД ТУТ ---\n",
    "\n",
    "\n",
    "def task_7():\n",
    "    m = math.factorial(5)\n",
    "    n = math.factorial(4)\n",
    "    \n",
    "    return n/m\n",
    "\n",
    "\n",
    "# --------------------\n",
    "\n",
    "proba = task_7()\n",
    "print(f'p={proba:.2f}')\n"
   ]
  },
  {
   "cell_type": "code",
   "execution_count": null,
   "metadata": {},
   "outputs": [],
   "source": [
    "import unittest\n",
    "\n",
    "\n",
    "class TestNotebook(unittest.TestCase):\n",
    "    def test_task(self):\n",
    "        self.assertAlmostEqual(task_7(), 0.2, places=2)\n",
    "\n",
    "unittest.main(argv=[''], verbosity=2, exit=False)"
   ]
  },
  {
   "cell_type": "markdown",
   "metadata": {},
   "source": [
    "На стол бросают (по одной) три игральные кости. Найти вероятность того, что все цифры будут разными (размещение с повторением)"
   ]
  },
  {
   "cell_type": "code",
   "execution_count": 161,
   "metadata": {},
   "outputs": [
    {
     "name": "stdout",
     "output_type": "stream",
     "text": [
      "p=0.556\n"
     ]
    }
   ],
   "source": [
    "# ---- ВАШ КОД ТУТ ---\n",
    "\n",
    "\n",
    "def task_8():\n",
    "    m = 6**3\n",
    "    n = math.factorial(6)/math.factorial(6-3)\n",
    "    return n/m\n",
    "\n",
    "\n",
    "# --------------------\n",
    "\n",
    "proba = task_8()\n",
    "print(f'p={proba:.3f}')\n"
   ]
  },
  {
   "cell_type": "code",
   "execution_count": 162,
   "metadata": {},
   "outputs": [
    {
     "name": "stderr",
     "output_type": "stream",
     "text": [
      "test_task (__main__.TestNotebook) ... ok\n",
      "\n",
      "----------------------------------------------------------------------\n",
      "Ran 1 test in 0.001s\n",
      "\n",
      "OK\n"
     ]
    },
    {
     "data": {
      "text/plain": [
       "<unittest.main.TestProgram at 0x7fd4b03e71d0>"
      ]
     },
     "execution_count": 162,
     "metadata": {},
     "output_type": "execute_result"
    }
   ],
   "source": [
    "import unittest\n",
    "\n",
    "\n",
    "class TestNotebook(unittest.TestCase):\n",
    "    def test_task(self):\n",
    "        self.assertAlmostEqual(task_8(), 0.556, places=2)\n",
    "\n",
    "unittest.main(argv=[''], verbosity=2, exit=False)"
   ]
  },
  {
   "cell_type": "markdown",
   "metadata": {},
   "source": [
    "В пачке M&M's 5 красных, 8 жёлтых и 20 синих драже. Из пачки выпало 3 штуки. Найти вероятность того, что все они красные (сочетание)"
   ]
  },
  {
   "cell_type": "code",
   "execution_count": 167,
   "metadata": {},
   "outputs": [
    {
     "name": "stdout",
     "output_type": "stream",
     "text": [
      "p=0.001833\n"
     ]
    }
   ],
   "source": [
    "# ---- ВАШ КОД ТУТ ---\n",
    "def Cnpok(a,b):\n",
    "    aa = math.factorial(a)\n",
    "    bb = math.factorial(b)\n",
    "    cc = math.factorial(a-b)\n",
    "    return aa/(bb*cc)\n",
    "\n",
    "def task_9():\n",
    "    m = Cnpok(33,3)\n",
    "    n = Cnpok(5,3)\n",
    "    return n/m\n",
    "\n",
    "\n",
    "# --------------------\n",
    "\n",
    "proba = task_9()\n",
    "print(f'p={proba:.6f}')"
   ]
  },
  {
   "cell_type": "code",
   "execution_count": null,
   "metadata": {},
   "outputs": [],
   "source": [
    "import unittest\n",
    "\n",
    "\n",
    "class TestNotebook(unittest.TestCase):\n",
    "    def test_task(self):\n",
    "        self.assertAlmostEqual(task_9(), 0.00183, places=5)\n",
    "\n",
    "unittest.main(argv=[''], verbosity=2, exit=False)"
   ]
  },
  {
   "cell_type": "markdown",
   "metadata": {},
   "source": [
    "В лотерее 6 выигрышных билетов из 49-ти. Наугад берут 6 билетов. Какова вероятность того, что \n",
    "\n",
    "1. среди них будет ровно три выигрышных? \n",
    "1. хотя бы один выигрышный?"
   ]
  },
  {
   "cell_type": "code",
   "execution_count": 183,
   "metadata": {},
   "outputs": [
    {
     "name": "stdout",
     "output_type": "stream",
     "text": [
      "p=0.01765040\n",
      "p=0.56403502\n"
     ]
    }
   ],
   "source": [
    "# ---- ВАШ КОД ТУТ ---\n",
    "\n",
    "\n",
    "def task_10_1():\n",
    "    m = Cnpok(49,6)\n",
    "    n = Cnpok(6,3)*Cnpok(43,3)\n",
    "    return n/m\n",
    "\n",
    "\n",
    "def task_10_2():\n",
    "    m = Cnpok(49,6)#число возможных сочетаний\n",
    "    n = Cnpok(43,6)#число возможных сочетаний проигрышных билетов\n",
    "    return 1-n/m\n",
    "\n",
    "\n",
    "# --------------------\n",
    "\n",
    "proba = task_10_1()\n",
    "print(f'p={proba:.8f}')\n",
    "\n",
    "proba = task_10_2()\n",
    "print(f'p={proba:.8f}')"
   ]
  },
  {
   "cell_type": "code",
   "execution_count": null,
   "metadata": {},
   "outputs": [],
   "source": [
    "import unittest\n",
    "\n",
    "\n",
    "class TestNotebook(unittest.TestCase):\n",
    "    def test_task(self):\n",
    "        self.assertAlmostEqual(task_10_1(), 0.00000143, places=8)\n",
    "        self.assertAlmostEqual(task_10_2(), 0.00000143, places=8)\n",
    "\n",
    "unittest.main(argv=[''], verbosity=2, exit=False)"
   ]
  },
  {
   "cell_type": "markdown",
   "metadata": {},
   "source": [
    "В урне 10 белых и 5 чёрных шаров. Потеряли 2 шара. Наугад извлекают три шара и все они белые. Найти вероятность того, что обы утерянных шара чёрные (условная вероятность)."
   ]
  },
  {
   "cell_type": "code",
   "execution_count": 220,
   "metadata": {},
   "outputs": [
    {
     "name": "stdout",
     "output_type": "stream",
     "text": [
      "p=0.152\n"
     ]
    }
   ],
   "source": [
    "# ---- ВАШ КОД ТУТ ---\n",
    "\n",
    "\n",
    "def task_11():\n",
    "    m = Cnpok(10,3)/Cnpok(13,3)#вероятность выбора 3 белых шаров после выпадения\n",
    "    m1 = Cnpok(10,3)/Cnpok(15,3)#вероятность выбора 3 белых шаров\n",
    "    n = Cnpok(5,2)/Cnpok(15,2)\n",
    "    return m*n/m1\n",
    "\n",
    "\n",
    "# --------------------\n",
    "\n",
    "proba = task_11()\n",
    "print(f'p={proba:.3f}')"
   ]
  },
  {
   "cell_type": "code",
   "execution_count": null,
   "metadata": {},
   "outputs": [],
   "source": [
    "import unittest\n",
    "\n",
    "\n",
    "class TestNotebook(unittest.TestCase):\n",
    "    def test_task(self):\n",
    "        self.assertAlmostEqual(task_11(), 0.152, places=3)\n",
    "\n",
    "unittest.main(argv=[''], verbosity=2, exit=False)"
   ]
  },
  {
   "cell_type": "markdown",
   "metadata": {},
   "source": [
    "В связке 20 ключей, нужно открыть одну дверь. Найти вероятность того, что до успеха придётся перебрать ровно половину"
   ]
  },
  {
   "cell_type": "code",
   "execution_count": 221,
   "metadata": {},
   "outputs": [
    {
     "name": "stdout",
     "output_type": "stream",
     "text": [
      "p=0.05\n"
     ]
    }
   ],
   "source": [
    "# ---- ВАШ КОД ТУТ ---\n",
    "\n",
    "\n",
    "def task_12():\n",
    "    m = 1/11# вероятность выщить ключь на 11 попытке\n",
    "    n = 11/20# вероятность выщить 9 ключей неправильных\n",
    "    return m*n\n",
    "\n",
    "\n",
    "# --------------------\n",
    "\n",
    "proba = task_12()\n",
    "print(f'p={proba:.2f}')"
   ]
  },
  {
   "cell_type": "code",
   "execution_count": null,
   "metadata": {},
   "outputs": [],
   "source": [
    "import unittest\n",
    "\n",
    "\n",
    "class TestNotebook(unittest.TestCase):\n",
    "    def test_task(self):\n",
    "        self.assertAlmostEqual(task_12(), 0.05, places=2)\n",
    "\n",
    "unittest.main(argv=[''], verbosity=2, exit=False)"
   ]
  },
  {
   "cell_type": "markdown",
   "metadata": {},
   "source": [
    "На стол выкладывают карточки аз набора {А, А, А, Н, Н, С}. Найти вероятность того, что получится слово *АНАНАС*"
   ]
  },
  {
   "cell_type": "code",
   "execution_count": 242,
   "metadata": {},
   "outputs": [
    {
     "name": "stdout",
     "output_type": "stream",
     "text": [
      "p=0.017\n"
     ]
    }
   ],
   "source": [
    "# ---- ВАШ КОД ТУТ ---\n",
    "\n",
    "\n",
    "def task_13():\n",
    "    m = math.factorial(6)\n",
    "    n = 3*2*2*1*1*1/m\n",
    "    return n\n",
    "\n",
    "\n",
    "# --------------------\n",
    "\n",
    "proba = task_13()\n",
    "print(f'p={proba:.3f}')"
   ]
  },
  {
   "cell_type": "code",
   "execution_count": null,
   "metadata": {},
   "outputs": [],
   "source": [
    "import unittest\n",
    "\n",
    "\n",
    "class TestNotebook(unittest.TestCase):\n",
    "    def test_task(self):\n",
    "        self.assertAlmostEqual(task_13(), 0.017, places=3)\n",
    "\n",
    "unittest.main(argv=[''], verbosity=2, exit=False)"
   ]
  },
  {
   "cell_type": "markdown",
   "metadata": {},
   "source": [
    "В баре 30 мест, 5 человек бронируют места. Найти вероятность того, что все места будут разными."
   ]
  },
  {
   "cell_type": "code",
   "execution_count": 150,
   "metadata": {},
   "outputs": [
    {
     "name": "stdout",
     "output_type": "stream",
     "text": [
      "p=0.000007017\n"
     ]
    }
   ],
   "source": [
    "# ---- ВАШ КОД ТУТ ---\n",
    "\n",
    "\n",
    "def task_14():\n",
    "    m = 1\n",
    "    n = 1\n",
    "    return 5/30*4/29*3/28*2/27*1/26\n",
    "\n",
    "\n",
    "# --------------------\n",
    "\n",
    "proba = task_14()\n",
    "print(f'p={proba:.9f}')"
   ]
  },
  {
   "cell_type": "code",
   "execution_count": 151,
   "metadata": {},
   "outputs": [
    {
     "name": "stderr",
     "output_type": "stream",
     "text": [
      "test_task (__main__.TestNotebook) ... ok\n",
      "\n",
      "----------------------------------------------------------------------\n",
      "Ran 1 test in 0.001s\n",
      "\n",
      "OK\n"
     ]
    },
    {
     "data": {
      "text/plain": [
       "<unittest.main.TestProgram at 0x7fd4b04037f0>"
      ]
     },
     "execution_count": 151,
     "metadata": {},
     "output_type": "execute_result"
    }
   ],
   "source": [
    "import unittest\n",
    "\n",
    "\n",
    "class TestNotebook(unittest.TestCase):\n",
    "    def test_task(self):\n",
    "        self.assertAlmostEqual(task_14(), 0.000007017, places=9)\n",
    "\n",
    "unittest.main(argv=[''], verbosity=2, exit=False)"
   ]
  },
  {
   "cell_type": "markdown",
   "metadata": {},
   "source": [
    "В корзине  6 белых, 5 синих и 4 красных. Шары извлекают по одному без возвращения до появления красного шара. Найти вероятность того, что придётся извлечь не менее 4-х шаров."
   ]
  },
  {
   "cell_type": "code",
   "execution_count": 149,
   "metadata": {},
   "outputs": [
    {
     "name": "stdout",
     "output_type": "stream",
     "text": [
      "p=0.242\n"
     ]
    }
   ],
   "source": [
    "# ---- ВАШ КОД ТУТ ---\n",
    "\n",
    "\n",
    "def task_15():\n",
    "\n",
    "    return 11/15*10/14*9/13*8/12\n",
    "\n",
    "\n",
    "# --------------------\n",
    "\n",
    "proba = task_15()\n",
    "print(f'p={proba:.3f}')"
   ]
  },
  {
   "cell_type": "code",
   "execution_count": null,
   "metadata": {},
   "outputs": [],
   "source": [
    "import unittest\n",
    "\n",
    "\n",
    "class TestNotebook(unittest.TestCase):\n",
    "    def test_task(self):\n",
    "        self.assertAlmostEqual(task_15(), 0.242, places=3)\n",
    "\n",
    "unittest.main(argv=[''], verbosity=2, exit=False)"
   ]
  },
  {
   "cell_type": "markdown",
   "metadata": {},
   "source": [
    "Две ладьи (белая и чёрная) ставятся на доску наугад. Что более вероятно \n",
    "\n",
    "* (а) не будут друг друга бить или\n",
    "* (б) будут."
   ]
  },
  {
   "cell_type": "code",
   "execution_count": 124,
   "metadata": {},
   "outputs": [
    {
     "name": "stdout",
     "output_type": "stream",
     "text": [
      "p=0.778\n",
      "p=0.222\n"
     ]
    }
   ],
   "source": [
    "# ---- ВАШ КОД ТУТ ---\n",
    "\n",
    "def task_16_1():\n",
    "    n=64*63\n",
    "    m=64*(64-15)\n",
    "    return m/n\n",
    "\n",
    "\n",
    "def task_16_2():\n",
    "    n=64*63\n",
    "    m=64*(64-15)\n",
    "    return 1-m/n\n",
    "\n",
    "# --------------------\n",
    "\n",
    "proba = task_16_1()\n",
    "print(f'p={proba:.3f}')\n",
    "\n",
    "proba = task_16_2()\n",
    "print(f'p={proba:.3f}')"
   ]
  },
  {
   "cell_type": "code",
   "execution_count": 125,
   "metadata": {},
   "outputs": [
    {
     "name": "stderr",
     "output_type": "stream",
     "text": [
      "test_task (__main__.TestNotebook) ... ok\n",
      "\n",
      "----------------------------------------------------------------------\n",
      "Ran 1 test in 0.001s\n",
      "\n",
      "OK\n"
     ]
    },
    {
     "data": {
      "text/plain": [
       "<unittest.main.TestProgram at 0x7fd4b04833c8>"
      ]
     },
     "execution_count": 125,
     "metadata": {},
     "output_type": "execute_result"
    }
   ],
   "source": [
    "import unittest\n",
    "\n",
    "\n",
    "class TestNotebook(unittest.TestCase):\n",
    "    def test_task(self):\n",
    "        self.assertAlmostEqual(task_16_1(), 0.778, places=3)\n",
    "        self.assertAlmostEqual(task_16_2(), 0.222, places=3)\n",
    "\n",
    "unittest.main(argv=[''], verbosity=2, exit=False)"
   ]
  },
  {
   "cell_type": "markdown",
   "metadata": {},
   "source": [
    "Рассчитать вероятность «счастливого билета».\n",
    "\n",
    "Цифр в номере шесть. Счастливым считается билет, сумма первых трех цифр которого совпадает с суммой оставшихся.\n"
   ]
  },
  {
   "cell_type": "code",
   "execution_count": 141,
   "metadata": {},
   "outputs": [
    {
     "name": "stdout",
     "output_type": "stream",
     "text": [
      "p=0.055\n"
     ]
    }
   ],
   "source": [
    "# ---- ВАШ КОД ТУТ ---\n",
    "\n",
    "    \n",
    "def task_17():\n",
    "    m = 1000000#количество билетов\n",
    "    '''\n",
    "    Идея в следующем: вернёмся к тому, что нам надо посчитать количество способов представить 27 как \n",
    "    сумму 6 цифр. Сделаем это так: возьмём 27 яблок и поставим среди них 5 перегородок. \n",
    "    Тогда количество яблок до первой перегородки будет первым слагаемым суммы, \n",
    "    от первой перегородки до второй — вторым слагаемым и т. д. Обратите внимание, \n",
    "    что перегородки могут стоять подряд, и в этом случае слагаемое окажется равным нулю. \n",
    "    Значит, задача сводится к подсчёту количества способов расставить перегородки. \n",
    "    Но заметим, что всего у нас получилось 32 объекта (27 яблок и 5 перегородок) и мы должны \n",
    "    выбрать местоположение для 5 перегородок (на остальные места встанут яблоки). \n",
    "    колько же существует способов выбрать 5 мест из 32? C32, если вы знакомы с комбинаторикой \n",
    "    (впрочем, если не знакомы — столько же). \n",
    "    Проблема в том, что это ещё не ответ. \n",
    "    Мы посчитали количество способов представить 27 в виде суммы 6 слагаемых, \n",
    "    но пока не учли, что ни одно слагаемое не должно быть больше 9. \n",
    "    Если же учесть это, итоговая формула будет такой:\n",
    "    '''\n",
    "    n=Cnpok(32,5)-Cnpok(6,1)*Cnpok(22,5)+Cnpok(6,2)*Cnpok(12,5)#Количество правильных билетов\n",
    "    return n/m\n",
    "\n",
    "\n",
    "# --------------------\n",
    "\n",
    "proba = task_17()\n",
    "print(f'p={proba:.3f}')"
   ]
  },
  {
   "cell_type": "code",
   "execution_count": 143,
   "metadata": {},
   "outputs": [
    {
     "name": "stderr",
     "output_type": "stream",
     "text": [
      "test_task (__main__.TestNotebook) ... ok\n",
      "\n",
      "----------------------------------------------------------------------\n",
      "Ran 1 test in 0.001s\n",
      "\n",
      "OK\n"
     ]
    },
    {
     "data": {
      "text/plain": [
       "<unittest.main.TestProgram at 0x7fd4b04cc358>"
      ]
     },
     "execution_count": 143,
     "metadata": {},
     "output_type": "execute_result"
    }
   ],
   "source": [
    "import unittest\n",
    "\n",
    "\n",
    "class TestNotebook(unittest.TestCase):\n",
    "    def test_task(self):\n",
    "        self.assertAlmostEqual(task_17(), 0.055, places=3)\n",
    "\n",
    "unittest.main(argv=[''], verbosity=2, exit=False)"
   ]
  },
  {
   "cell_type": "markdown",
   "metadata": {},
   "source": [
    "### Проверка домашек"
   ]
  },
  {
   "cell_type": "code",
   "execution_count": 36,
   "metadata": {},
   "outputs": [
    {
     "name": "stderr",
     "output_type": "stream",
     "text": [
      "test_task (__main__.TestNotebook) ... ok\n",
      "\n",
      "----------------------------------------------------------------------\n",
      "Ran 1 test in 0.002s\n",
      "\n",
      "OK\n"
     ]
    },
    {
     "data": {
      "text/plain": [
       "<unittest.main.TestProgram at 0x7fe63841c2e8>"
      ]
     },
     "execution_count": 36,
     "metadata": {},
     "output_type": "execute_result"
    }
   ],
   "source": [
    "import unittest\n",
    "\n",
    "\n",
    "class TestNotebook(unittest.TestCase):\n",
    "    def test_task(self):\n",
    "        self.assertEqual(task_1(num_students=10, num_girls=2), 0.2)\n",
    "        self.assertAlmostEqual(task_2(sea_rooms=12, num_boys=8, num_girls=12), 0.0000079384, places=11)\n",
    "        self.assertAlmostEqual(task_3(), 0.333, places=3)\n",
    "        self.assertEqual(task_4_opposite(), task_4_same())\n",
    "        self.assertAlmostEqual(task_6_1(), 0.1, places=3)\n",
    "        self.assertAlmostEqual(task_6_2(), 0.1, places=3)\n",
    "        self.assertAlmostEqual(task_6_3(), 0.1, places=3)\n",
    "        self.assertAlmostEqual(task_7(), 0.19, places=3)\n",
    "        self.assertAlmostEqual(task_8(), 0.19, places=3)\n",
    "        self.assertAlmostEqual(task_9(), 0.19, places=3)\n",
    "        self.assertAlmostEqual(task_10_2(), 0.19, places=3)\n",
    "        self.assertAlmostEqual(task_10_1(), 0.19, places=3)\n",
    "        self.assertAlmostEqual(task_10(), 0.19, places=3)\n",
    "        self.assertAlmostEqual(task_11(), 0.19, places=3)\n",
    "        self.assertAlmostEqual(task_12(), 0.19, places=3)\n",
    "        self.assertAlmostEqual(task_13(), 0.19, places=3)\n",
    "        self.assertAlmostEqual(task_14(), 0.19, places=3)\n",
    "        self.assertAlmostEqual(task_15(), 0.19, places=3)\n",
    "        self.assertAlmostEqual(task_16_1(), 0.19, places=3)\n",
    "        self.assertAlmostEqual(task_16_2(), 0.19, places=3)\n",
    "        self.assertAlmostEqual(task_17(), 0.19, places=3)\n",
    "\n",
    "unittest.main(argv=[''], verbosity=2, exit=False)"
   ]
  },
  {
   "cell_type": "markdown",
   "metadata": {},
   "source": [
    "# HW2: формулы вычисления вероятностей"
   ]
  },
  {
   "cell_type": "markdown",
   "metadata": {},
   "source": [
    "На ресурсе 30% пользователей iOS, На Android конверсия в покупку фильма 0.05, на iOS 0.08. Пользователь совершает покупку. Найти вероятность, что это пользователь Android."
   ]
  },
  {
   "cell_type": "code",
   "execution_count": 300,
   "metadata": {},
   "outputs": [
    {
     "name": "stdout",
     "output_type": "stream",
     "text": [
      "p=0.593\n"
     ]
    }
   ],
   "source": [
    "# ---- ВАШ КОД ТУТ ---\n",
    "\n",
    "\n",
    "def task_18():\n",
    "    p = (0.7*0.05)/(0.7*0.05+0.3*0.08)\n",
    "    return p\n",
    "\n",
    "\n",
    "# --------------------\n",
    "\n",
    "proba = task_18()\n",
    "print(f'p={proba:.3f}')"
   ]
  },
  {
   "cell_type": "code",
   "execution_count": null,
   "metadata": {},
   "outputs": [],
   "source": [
    "import unittest\n",
    "\n",
    "\n",
    "class TestNotebook(unittest.TestCase):\n",
    "    def test_task(self):\n",
    "        self.assertAlmostEqual(task_18(), 0.593, places=3)\n",
    "\n",
    "unittest.main(argv=[''], verbosity=2, exit=False)"
   ]
  },
  {
   "cell_type": "markdown",
   "metadata": {},
   "source": [
    "Вероятность встретить частицу в течение минуты $p$. Какова вероятность встретить хотя бы одну частицу в течение 30 минут?"
   ]
  },
  {
   "cell_type": "code",
   "execution_count": 313,
   "metadata": {},
   "outputs": [
    {
     "name": "stdout",
     "output_type": "stream",
     "text": [
      "p=0.78536\n"
     ]
    }
   ],
   "source": [
    "# ---- ВАШ КОД ТУТ ---\n",
    "\n",
    "\n",
    "def task_19(p):\n",
    "    return 1-(1-p)**30\n",
    "\n",
    "\n",
    "# --------------------\n",
    "\n",
    "proba = task_19(0.05)\n",
    "print(f'p={proba:.5f}')"
   ]
  },
  {
   "cell_type": "code",
   "execution_count": 327,
   "metadata": {},
   "outputs": [
    {
     "name": "stderr",
     "output_type": "stream",
     "text": [
      "test_task (__main__.TestNotebook) ... ok\n",
      "\n",
      "----------------------------------------------------------------------\n",
      "Ran 1 test in 0.004s\n",
      "\n",
      "OK\n"
     ]
    },
    {
     "data": {
      "text/plain": [
       "<unittest.main.TestProgram at 0x7fd4b0410ef0>"
      ]
     },
     "execution_count": 327,
     "metadata": {},
     "output_type": "execute_result"
    }
   ],
   "source": [
    "import unittest\n",
    "\n",
    "\n",
    "class TestNotebook(unittest.TestCase):\n",
    "    def test_task(self):\n",
    "        self.assertAlmostEqual(task_19(0.05), 0.78536, places=5)\n",
    "\n",
    "unittest.main(argv=[''], verbosity=2, exit=False)"
   ]
  },
  {
   "cell_type": "markdown",
   "metadata": {},
   "source": [
    "Тест на болезнь имеет вероятность ошибки 0.1 (как позитивной, так и негативной). Достоверно известно, что болеет 10% населения. Какая вероятность того, что человек болен, если у него позитивный результат теста?"
   ]
  },
  {
   "cell_type": "code",
   "execution_count": 332,
   "metadata": {},
   "outputs": [
    {
     "name": "stdout",
     "output_type": "stream",
     "text": [
      "p=0.5000000000\n"
     ]
    }
   ],
   "source": [
    "# ---- ВАШ КОД ТУТ ---\n",
    "\n",
    "\n",
    "def task_20():\n",
    "    q=0.1\n",
    "    p=0.1\n",
    "    p=(p-q*p)/(p+q-2*q*p)\n",
    "    return p\n",
    "\n",
    "\n",
    "# --------------------\n",
    "\n",
    "proba = task_20()\n",
    "print(f'p={proba:.2f}')"
   ]
  },
  {
   "cell_type": "code",
   "execution_count": null,
   "metadata": {},
   "outputs": [],
   "source": [
    "import unittest\n",
    "\n",
    "\n",
    "class TestNotebook(unittest.TestCase):\n",
    "    def test_task(self):\n",
    "        self.assertAlmostEqual(task_20(), 0.5, places=2)\n",
    "\n",
    "unittest.main(argv=[''], verbosity=2, exit=False)"
   ]
  },
  {
   "cell_type": "markdown",
   "metadata": {},
   "source": [
    "Что вероятнее с равносильным противником - выиграть 3 партии из 4-х, или 5 из 8-ми?(схема Бернулли)"
   ]
  },
  {
   "cell_type": "code",
   "execution_count": 388,
   "metadata": {},
   "outputs": [
    {
     "name": "stdout",
     "output_type": "stream",
     "text": [
      "p1 > p2: 0.25, 0.21875\n"
     ]
    }
   ],
   "source": [
    "from scipy.stats import binom\n",
    "\n",
    "# ---- ВАШ КОД ТУТ ---\n",
    "\n",
    "\n",
    "def task_21_1():\n",
    "    m = 3\n",
    "    n = 4\n",
    "    p = 0.5\n",
    "    # биномиально распределённая СВ\n",
    "    rv = binom(n, p)\n",
    "    # вероятность заданного числа успехов\n",
    "    p = rv.pmf(m)\n",
    "    return p\n",
    "\n",
    "\n",
    "def task_21_2():\n",
    "    m = 5\n",
    "    n = 8\n",
    "    p = 0.5\n",
    "    # биномиально распределённая СВ\n",
    "    rv = binom(n, p)\n",
    "    # вероятность заданного числа успехов\n",
    "    p = rv.pmf(m)\n",
    "    return p\n",
    "\n",
    "# --------------------\n",
    "\n",
    "proba1 = task_21_1()\n",
    "\n",
    "proba2 = task_21_2()\n",
    "\n",
    "\n",
    "print(f'p1 > p2: {proba1:.2f}, {proba2:.5f}')"
   ]
  },
  {
   "cell_type": "code",
   "execution_count": null,
   "metadata": {},
   "outputs": [],
   "source": [
    "import unittest\n",
    "\n",
    "\n",
    "class TestNotebook(unittest.TestCase):\n",
    "    def test_task(self):\n",
    "        self.assertAlmostEqual(task_21_1(), 0.25, places=2)\n",
    "        self.assertAlmostEqual(task_21_2(), 0.21875, places=5)\n",
    "\n",
    "unittest.main(argv=[''], verbosity=2, exit=False)"
   ]
  },
  {
   "cell_type": "markdown",
   "metadata": {},
   "source": [
    "Каждый 10-й договор страховой компании завершается выплатой. Компания заключила 5 договоров. Найти вероятность того, что случится хотя бы случится хотя бы один случай. (схема Бернулли)"
   ]
  },
  {
   "cell_type": "code",
   "execution_count": 438,
   "metadata": {},
   "outputs": [
    {
     "name": "stdout",
     "output_type": "stream",
     "text": [
      "p=0.99955\n"
     ]
    }
   ],
   "source": [
    "# ---- ВАШ КОД ТУТ ---\n",
    "\n",
    "\n",
    "def task_22():\n",
    "    m = 1\n",
    "    n = 5\n",
    "    p = 0.9\n",
    "    # биномиально распределённая СВ\n",
    "    rv = binom(n, p)\n",
    "    # вероятность заданного числа успехов\n",
    "    p = rv.pmf(m)\n",
    "    return 1-p\n",
    "\n",
    "\n",
    "# --------------------\n",
    "\n",
    "proba = task_22()\n",
    "print(f'p={proba:.5f}')"
   ]
  },
  {
   "cell_type": "code",
   "execution_count": null,
   "metadata": {},
   "outputs": [],
   "source": [
    "import unittest\n",
    "\n",
    "\n",
    "class TestNotebook(unittest.TestCase):\n",
    "    def test_task(self):\n",
    "        self.assertAlmostEqual(task_22(), 0.99955, places=5)\n",
    "\n",
    "unittest.main(argv=[''], verbosity=2, exit=False)"
   ]
  },
  {
   "cell_type": "markdown",
   "metadata": {},
   "source": [
    "В урне 10 белых, 8 синих и 2 красных шара, извлекают 3 шара. Найти вероятность того, что шары будут одного цвета (сложение вероятностей)"
   ]
  },
  {
   "cell_type": "code",
   "execution_count": 357,
   "metadata": {},
   "outputs": [
    {
     "name": "stdout",
     "output_type": "stream",
     "text": [
      "p=0.15\n"
     ]
    }
   ],
   "source": [
    "# ---- ВАШ КОД ТУТ ---\n",
    "\n",
    "\n",
    "def task_23():\n",
    "    a = math.factorial(10)*math.factorial(17)/math.factorial(7)/math.factorial(20)\n",
    "    b = math.factorial(8)*math.factorial(17)/math.factorial(5)/math.factorial(20)\n",
    "    p = a+b\n",
    "    return p\n",
    "\n",
    "proba = task_23()\n",
    "print(f'p={proba:.2f}')\n",
    "\n",
    "# --------------------"
   ]
  },
  {
   "cell_type": "code",
   "execution_count": null,
   "metadata": {},
   "outputs": [],
   "source": [
    "import unittest\n",
    "\n",
    "\n",
    "class TestNotebook(unittest.TestCase):\n",
    "    def test_task(self):\n",
    "        self.assertAlmostEqual(task_23(), 0.15, places=2)\n",
    "\n",
    "unittest.main(argv=[''], verbosity=2, exit=False)"
   ]
  },
  {
   "cell_type": "markdown",
   "metadata": {},
   "source": [
    "Телефон находится в одной из комнат с вероятностью 0.5, 0.6, 0.7. Найти вероятность того, что телефон будет найден, если пройтись по всем комнатам. (произведение вероятностей)"
   ]
  },
  {
   "cell_type": "code",
   "execution_count": 389,
   "metadata": {},
   "outputs": [
    {
     "name": "stdout",
     "output_type": "stream",
     "text": [
      "p=0.94\n"
     ]
    }
   ],
   "source": [
    "# ---- ВАШ КОД ТУТ ---\n",
    "\n",
    "\n",
    "def task_24():\n",
    "    p1 = 0.5\n",
    "    p2 = 0.6\n",
    "    p3 = 0.7\n",
    "    return 1-(1-p1)*(1-p2)*(1-p3)\n",
    "\n",
    "\n",
    "# --------------------\n",
    "\n",
    "\n",
    "proba = task_24()\n",
    "print(f'p={proba:.2f}')"
   ]
  },
  {
   "cell_type": "code",
   "execution_count": null,
   "metadata": {},
   "outputs": [],
   "source": [
    "import unittest\n",
    "\n",
    "\n",
    "class TestNotebook(unittest.TestCase):\n",
    "    def test_task(self):\n",
    "        self.assertAlmostEqual(task_24(), 0.94, places=2)\n",
    "\n",
    "unittest.main(argv=[''], verbosity=2, exit=False)"
   ]
  },
  {
   "cell_type": "markdown",
   "metadata": {},
   "source": [
    "### Проверка домашек"
   ]
  },
  {
   "cell_type": "code",
   "execution_count": null,
   "metadata": {},
   "outputs": [],
   "source": [
    "import unittest\n",
    "\n",
    "\n",
    "class TestNotebook(unittest.TestCase):\n",
    "    def test_task(self):\n",
    "        self.assertAlmostEqual(task_18(), 0.593, places=3)\n",
    "        self.assertAlmostEqual(task_19(0.05), 0.78536, places=6)\n",
    "        self.assertAlmostEqual(task_20(), 0.5, places=2)\n",
    "        self.assertAlmostEqual(task_21_1(), 0.25, places=2)\n",
    "        self.assertAlmostEqual(task_21_2(), 0.21875, places=5)\n",
    "        self.assertAlmostEqual(task_22(), 0.99955, places=5)\n",
    "        self.assertAlmostEqual(task_23(), 0.15, places=2)\n",
    "        self.assertAlmostEqual(task_24(), 0.94, places=2)\n",
    "        \n",
    "\n",
    "unittest.main(argv=[''], verbosity=2, exit=False)"
   ]
  },
  {
   "cell_type": "markdown",
   "metadata": {},
   "source": [
    "# HW3: случайные величины\n",
    "\n",
    "Каждый день аналитик Сидоров идет на работу. По пути от метро он должен перейти две дороги со светофорами. Один светофор горит красным 60 секунд, зеленым 15 секунд. Второй — 100 секунд красным и 30 секунд зеленым.\n",
    "\n",
    "Вопрос: сколько секунд аналитик Сидоров в среднем тратит на ожидание перед светофором по пути на работу?"
   ]
  },
  {
   "cell_type": "code",
   "execution_count": 436,
   "metadata": {},
   "outputs": [
    {
     "name": "stdout",
     "output_type": "stream",
     "text": [
      "p=62.46\n"
     ]
    }
   ],
   "source": [
    "\n",
    "# ---- ВАШ КОД ТУТ ---\n",
    "\n",
    "def task_25():\n",
    "    a = 60*0.5*60/75+100*0.5*100/130\n",
    "    return a\n",
    "\n",
    "proba = task_25()\n",
    "print(f'p={proba:.2f}')\n",
    "# --------------------\n",
    "\n"
   ]
  },
  {
   "cell_type": "code",
   "execution_count": null,
   "metadata": {},
   "outputs": [],
   "source": [
    "import unittest\n",
    "\n",
    "\n",
    "class TestNotebook(unittest.TestCase):\n",
    "    def test_task(self):\n",
    "        self.assertAlmostEqual(task_25(), 62.46, places=2)\n",
    "\n",
    "unittest.main(argv=[''], verbosity=2, exit=False)"
   ]
  },
  {
   "cell_type": "markdown",
   "metadata": {},
   "source": [
    "Какой минимальный платеж нужно установить для новых клиентов Яндекс.Маркета, чтобы этих денег хватило на количество переходов, достаточное для оценки качества трафика с Яндекс.Маркета? Конверсию в продажи для визитов с Яндекс.Маркета считайте равной 3%. Объясните ваши расчеты."
   ]
  },
  {
   "cell_type": "code",
   "execution_count": 23,
   "metadata": {},
   "outputs": [],
   "source": [
    "# ---- ВАШ КОД ТУТ ---\n",
    "\n",
    "\n",
    "def task_26():\n",
    "    #Цена клика = Стоимость лида * Конверсия из лида в заявку\n",
    "    p = 1\n",
    "    return m/n\n",
    "\n",
    "\n",
    "# --------------------"
   ]
  },
  {
   "cell_type": "code",
   "execution_count": null,
   "metadata": {},
   "outputs": [],
   "source": [
    "import unittest\n",
    "\n",
    "\n",
    "class TestNotebook(unittest.TestCase):\n",
    "    def test_task(self):\n",
    "        self.assertAlmostEqual(task_26(), 0.2, places=2)\n",
    "\n",
    "unittest.main(argv=[''], verbosity=2, exit=False)"
   ]
  },
  {
   "cell_type": "code",
   "execution_count": null,
   "metadata": {},
   "outputs": [],
   "source": []
  },
  {
   "cell_type": "code",
   "execution_count": null,
   "metadata": {},
   "outputs": [],
   "source": []
  }
 ],
 "metadata": {
  "kernelspec": {
   "display_name": "Python 3",
   "language": "python",
   "name": "python3"
  },
  "language_info": {
   "codemirror_mode": {
    "name": "ipython",
    "version": 3
   },
   "file_extension": ".py",
   "mimetype": "text/x-python",
   "name": "python",
   "nbconvert_exporter": "python",
   "pygments_lexer": "ipython3",
   "version": "3.7.3"
  }
 },
 "nbformat": 4,
 "nbformat_minor": 4
}

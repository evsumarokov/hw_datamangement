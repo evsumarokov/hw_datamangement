{
 "cells": [
  {
   "cell_type": "markdown",
   "metadata": {},
   "source": [
    "# Домашняя работа \"Аналитика\"\n",
    "\n",
    "# Часть I: исходные данные\n",
    "\n",
    "### Задача 1: Конверсия в просмотр"
   ]
  },
  {
   "cell_type": "markdown",
   "metadata": {},
   "source": [
    "Напишите запрос, который сравнит конверсию в просмотр между двумя странами: Россия и Украина\n",
    "\n",
    "* сгруппируйте данные по полям страна + день\n",
    "* исключите просмотры, которые были совершены в субботу и воскресенье"
   ]
  },
  {
   "cell_type": "code",
   "execution_count": 142,
   "metadata": {},
   "outputs": [
    {
     "data": {
      "text/html": [
       "<div>\n",
       "<style scoped>\n",
       "    .dataframe tbody tr th:only-of-type {\n",
       "        vertical-align: middle;\n",
       "    }\n",
       "\n",
       "    .dataframe tbody tr th {\n",
       "        vertical-align: top;\n",
       "    }\n",
       "\n",
       "    .dataframe thead th {\n",
       "        text-align: right;\n",
       "    }\n",
       "</style>\n",
       "<table border=\"1\" class=\"dataframe\">\n",
       "  <thead>\n",
       "    <tr style=\"text-align: right;\">\n",
       "      <th></th>\n",
       "      <th>date</th>\n",
       "      <th>dw</th>\n",
       "      <th>country</th>\n",
       "      <th>conversion</th>\n",
       "    </tr>\n",
       "  </thead>\n",
       "  <tbody>\n",
       "    <tr>\n",
       "      <th>0</th>\n",
       "      <td>2019-06-03</td>\n",
       "      <td>Monday</td>\n",
       "      <td>Россия</td>\n",
       "      <td>0.000944</td>\n",
       "    </tr>\n",
       "    <tr>\n",
       "      <th>1</th>\n",
       "      <td>2019-06-03</td>\n",
       "      <td>Monday</td>\n",
       "      <td>Украина</td>\n",
       "      <td>0.000000</td>\n",
       "    </tr>\n",
       "    <tr>\n",
       "      <th>2</th>\n",
       "      <td>2019-06-04</td>\n",
       "      <td>Tuesday</td>\n",
       "      <td>Россия</td>\n",
       "      <td>0.000000</td>\n",
       "    </tr>\n",
       "    <tr>\n",
       "      <th>3</th>\n",
       "      <td>2019-06-04</td>\n",
       "      <td>Tuesday</td>\n",
       "      <td>Украина</td>\n",
       "      <td>0.000000</td>\n",
       "    </tr>\n",
       "    <tr>\n",
       "      <th>4</th>\n",
       "      <td>2019-06-05</td>\n",
       "      <td>Wednesday</td>\n",
       "      <td>Россия</td>\n",
       "      <td>0.000000</td>\n",
       "    </tr>\n",
       "    <tr>\n",
       "      <th>...</th>\n",
       "      <td>...</td>\n",
       "      <td>...</td>\n",
       "      <td>...</td>\n",
       "      <td>...</td>\n",
       "    </tr>\n",
       "    <tr>\n",
       "      <th>125</th>\n",
       "      <td>2019-08-28</td>\n",
       "      <td>Wednesday</td>\n",
       "      <td>Украина</td>\n",
       "      <td>0.002941</td>\n",
       "    </tr>\n",
       "    <tr>\n",
       "      <th>126</th>\n",
       "      <td>2019-08-29</td>\n",
       "      <td>Thursday</td>\n",
       "      <td>Россия</td>\n",
       "      <td>0.000799</td>\n",
       "    </tr>\n",
       "    <tr>\n",
       "      <th>127</th>\n",
       "      <td>2019-08-29</td>\n",
       "      <td>Thursday</td>\n",
       "      <td>Украина</td>\n",
       "      <td>0.000000</td>\n",
       "    </tr>\n",
       "    <tr>\n",
       "      <th>128</th>\n",
       "      <td>2019-08-30</td>\n",
       "      <td>Friday</td>\n",
       "      <td>Россия</td>\n",
       "      <td>0.000577</td>\n",
       "    </tr>\n",
       "    <tr>\n",
       "      <th>129</th>\n",
       "      <td>2019-08-30</td>\n",
       "      <td>Friday</td>\n",
       "      <td>Украина</td>\n",
       "      <td>0.000000</td>\n",
       "    </tr>\n",
       "  </tbody>\n",
       "</table>\n",
       "<p>130 rows × 4 columns</p>\n",
       "</div>"
      ],
      "text/plain": [
       "           date         dw  country  conversion\n",
       "0    2019-06-03  Monday      Россия    0.000944\n",
       "1    2019-06-03  Monday     Украина    0.000000\n",
       "2    2019-06-04  Tuesday     Россия    0.000000\n",
       "3    2019-06-04  Tuesday    Украина    0.000000\n",
       "4    2019-06-05  Wednesday   Россия    0.000000\n",
       "..          ...        ...      ...         ...\n",
       "125  2019-08-28  Wednesday  Украина    0.002941\n",
       "126  2019-08-29  Thursday    Россия    0.000799\n",
       "127  2019-08-29  Thursday   Украина    0.000000\n",
       "128  2019-08-30  Friday      Россия    0.000577\n",
       "129  2019-08-30  Friday     Украина    0.000000\n",
       "\n",
       "[130 rows x 4 columns]"
      ]
     },
     "execution_count": 142,
     "metadata": {},
     "output_type": "execute_result"
    }
   ],
   "source": [
    "import datetime\n",
    "import logging\n",
    "import os\n",
    "from subprocess import call\n",
    "\n",
    "import numpy as np\n",
    "import pandas as pd\n",
    "from sqlalchemy import create_engine\n",
    "import pandas as pd\n",
    "\n",
    "logging.basicConfig(format='%(asctime)s : %(levelname)s : %(message)s', level=logging.INFO)\n",
    "logger = logging.getLogger(__name__)\n",
    "# движок нужен для подключения к Postgres\n",
    "engine = create_engine('postgresql://postgres:@{}'.format(os.environ['APP_POSTGRES_HOST']))\n",
    "\n",
    "# ----- ВАШ КОД ТУТ  -------\n",
    "\n",
    "\n",
    "sql_str = \"\"\"\n",
    "SELECT    \n",
    "    date,\n",
    "    to_char(to_timestamp(rocket_datetime),'Day') as dw,\n",
    "    country,\n",
    "    SUM(content_watch)::float / SUM(content_impression)::float as conversion    \n",
    "FROM (\n",
    "    SELECT\n",
    "        rocket_datetime,\n",
    "        user_id_for_mai,\n",
    "        content_id,\n",
    "        country,\n",
    "        to_char(to_timestamp(rocket_datetime), 'YYYY-MM-DD') as date,\n",
    "        MAX(CASE WHEN name in ('page_impression', 'click') THEN 1 ELSE 0 END) as content_impression,\n",
    "        MAX(CASE WHEN name='content_watch' THEN 1 ELSE 0 END) as content_watch\n",
    "    FROM movie.events\n",
    "    WHERE\n",
    "        content_id > 0\n",
    "        AND country in ('Украина', 'Россия')\n",
    "        AND EXTRACT(DOW FROM to_timestamp(rocket_datetime)) < 6\n",
    "        AND EXTRACT(DOW FROM to_timestamp(rocket_datetime)) > 0\n",
    "    GROUP BY user_id_for_mai, content_id, date, country, rocket_datetime\n",
    ") as content_watches\n",
    "WHERE\n",
    "    content_impression > 0\n",
    "GROUP BY date, country, dw\n",
    "ORDER BY date\n",
    "\n",
    "\"\"\"\n",
    "\n",
    "\n",
    "# ----- ВАШ КОД ТУТ  -------\n",
    "\n",
    "conversion_df = pd.read_sql(sql_str, engine)\n",
    "\n",
    "conversion_df\n"
   ]
  },
  {
   "cell_type": "markdown",
   "metadata": {},
   "source": [
    "Визуализация: постройте графики изменения конверсии по дням"
   ]
  },
  {
   "cell_type": "code",
   "execution_count": 143,
   "metadata": {},
   "outputs": [
    {
     "data": {
      "text/plain": [
       "<matplotlib.axes._subplots.AxesSubplot at 0x7fdaacae4240>"
      ]
     },
     "execution_count": 143,
     "metadata": {},
     "output_type": "execute_result"
    },
    {
     "data": {
      "image/png": "[encoded data removed]",
      "text/plain": [
       "<Figure size 432x288 with 1 Axes>"
      ]
     },
     "metadata": {
      "needs_background": "light"
     },
     "output_type": "display_data"
    }
   ],
   "source": [
    "%matplotlib inline\n",
    "\n",
    "df1 = conversion_df[conversion_df['country']=='Россия']\n",
    "df2 = conversion_df[conversion_df['country']=='Украина']\n",
    "\n",
    "\n",
    "ax = df1.plot(x='dw', y='conversion', label='Россия')\n",
    "df2.plot(x='dw', y='conversion', ax=ax, label='Украина')\n"
   ]
  },
  {
   "cell_type": "markdown",
   "metadata": {},
   "source": [
    "Визуализация: постройте гистограмму распределения конверсии"
   ]
  },
  {
   "cell_type": "code",
   "execution_count": 144,
   "metadata": {},
   "outputs": [
    {
     "data": {
      "text/plain": [
       "<matplotlib.axes._subplots.AxesSubplot at 0x7fdaaca4dd30>"
      ]
     },
     "execution_count": 144,
     "metadata": {},
     "output_type": "execute_result"
    },
    {
     "data": {
      "image/png": "[encoded data removed]",
      "text/plain": [
       "<Figure size 432x288 with 1 Axes>"
      ]
     },
     "metadata": {
      "needs_background": "light"
     },
     "output_type": "display_data"
    }
   ],
   "source": [
    "ax = conversion_df[\n",
    "    conversion_df['country']=='Россия'\n",
    "]['conversion'].plot(kind='hist', alpha=0.5, bins=13, label='Россия', legend=True)\n",
    "\n",
    "conversion_df[\n",
    "    conversion_df['country']=='Украина'\n",
    "]['conversion'].plot(kind='hist', alpha=0.5, bins=12, label='Украина', legend=True)"
   ]
  },
  {
   "cell_type": "markdown",
   "metadata": {},
   "source": [
    "### Задача 2:  Retention\n",
    "\n",
    "Посчитайте возвращаемость (недельную) пользователей на сервис на день X\n",
    "\n",
    "* найдите множество $y1$ пользователей, которые заходили в период от $X-14$ до $X-7$\n",
    "* найдите множество $y2$, которые заходили в период от $X-6$ до $X$\n",
    "* найдите пересечение множеств $y1$ и $y2$ и разделите его на объединение этих множеств - это и будет наша метрика retention"
   ]
  },
  {
   "cell_type": "code",
   "execution_count": 145,
   "metadata": {},
   "outputs": [
    {
     "data": {
      "text/plain": [
       "0.13772090188909203"
      ]
     },
     "execution_count": 145,
     "metadata": {},
     "output_type": "execute_result"
    }
   ],
   "source": [
    "import datetime\n",
    "import logging\n",
    "import os\n",
    "from subprocess import call\n",
    "\n",
    "import numpy as np\n",
    "import pandas as pd\n",
    "from sqlalchemy import create_engine\n",
    "import pandas as pd\n",
    "\n",
    "logging.basicConfig(format='%(asctime)s : %(levelname)s : %(message)s', level=logging.INFO)\n",
    "logger = logging.getLogger(__name__)\n",
    "# движок нужен для подключения к Postgres\n",
    "engine = create_engine('postgresql://postgres:@{}'.format(os.environ['APP_POSTGRES_HOST']))\n",
    "\n",
    "# ----- ВАШ КОД ТУТ  -------\n",
    "\n",
    "def retention(date, subsite_title):\n",
    "    date1 = date\n",
    "    subsite_title1 = subsite_title\n",
    "    sql_str1 = \"\"\"\n",
    "    DROP TABLE if exists T1,T2,T3,T4, y1,y2 CASCADE;\n",
    "    \n",
    "    CREATE TABLE T1 AS\n",
    "    SELECT \n",
    "        distinct user_id_for_mai,\n",
    "        subsite_title,\n",
    "        to_date(to_char(to_timestamp(rocket_datetime), 'YYYY-MM-DD'), 'YYYY-MM-DD') as date\n",
    "    FROM movie.events\n",
    "    WHERE \n",
    "        to_date(to_char(to_timestamp(rocket_datetime), 'YYYY-MM-DD'), 'YYYY-MM-DD') >= '{0}'::date \n",
    "        AND to_date(to_char(to_timestamp(rocket_datetime), 'YYYY-MM-DD'), 'YYYY-MM-DD') < '{0}'::date + interval '6 days'\n",
    "        AND subsite_title = '{1}'\n",
    "    ORDER BY date; \n",
    "    \n",
    "    CREATE TABLE T2 AS\n",
    "    SELECT \n",
    "        distinct user_id_for_mai,\n",
    "        to_date(to_char(to_timestamp(rocket_datetime), 'YYYY-MM-DD'), 'YYYY-MM-DD') as date,\n",
    "        subsite_title\n",
    "    FROM movie.events\n",
    "    WHERE \n",
    "        to_date(to_char(to_timestamp(rocket_datetime), 'YYYY-MM-DD'), 'YYYY-MM-DD') >= '{0}'::date + interval '7 days'\n",
    "        AND to_date(to_char(to_timestamp(rocket_datetime), 'YYYY-MM-DD'), 'YYYY-MM-DD') < '{0}'::date + interval '14 days'\n",
    "        AND subsite_title = '{1}'\n",
    "    ORDER BY date;\n",
    "    \n",
    "    CREATE TABLE T3 AS\n",
    "    SELECT user_id_for_mai FROM T1 INTERSECT SELECT user_id_for_mai FROM T2;\n",
    "    \n",
    "    CREATE TABLE T4 AS\n",
    "    SELECT user_id_for_mai FROM T1 UNION SELECT user_id_for_mai FROM T2;\n",
    "    \n",
    "    Create TABLE y1 as \n",
    "    SELECT count(user_id_for_mai) as c1 FROM T3;\n",
    "    \n",
    "    Create TABLE y2 as \n",
    "    SELECT count(user_id_for_mai) as c2 FROM T4;\n",
    "    \n",
    "    SELECT c1,c2 FROM y1,y2\n",
    "    \n",
    "    \"\"\".format(date1, subsite_title1)\n",
    "\n",
    "    # ----- ВАШ КОД ТУТ  -------\n",
    "    df = pd.read_sql(sql_str1, engine)\n",
    "    a = df['c1'][0]/df['c2'][0]\n",
    "    #y1 = pd.read_sql(sql_str2, engine)\n",
    "    #inter = pd.Series(np.intersect1d(y1[\"user_id_for_mai\"],y2[\"user_id_for_mai\"]))\n",
    "    #join = pd.Series(np.concatenate((y1[\"user_id_for_mai\"],y2[\"user_id_for_mai\"]), axis=None))\n",
    "    #a= len(inter.index)/len(join.index)\n",
    "    #inter.head(30)\n",
    "    #join.head(30)\n",
    "    #np.concatenate?\n",
    "    return a\n",
    "date = '2019-06-17'\n",
    "subsite_title = 'Windows 10'\n",
    "ret=retention(date, subsite_title)\n",
    "ret"
   ]
  },
  {
   "cell_type": "markdown",
   "metadata": {},
   "source": [
    "Постройте гистограмму ретеншна - на какой платформе лучше возвращаемость?"
   ]
  },
  {
   "cell_type": "code",
   "execution_count": 146,
   "metadata": {},
   "outputs": [
    {
     "data": {
      "text/html": [
       "<div>\n",
       "<style scoped>\n",
       "    .dataframe tbody tr th:only-of-type {\n",
       "        vertical-align: middle;\n",
       "    }\n",
       "\n",
       "    .dataframe tbody tr th {\n",
       "        vertical-align: top;\n",
       "    }\n",
       "\n",
       "    .dataframe thead th {\n",
       "        text-align: right;\n",
       "    }\n",
       "</style>\n",
       "<table border=\"1\" class=\"dataframe\">\n",
       "  <thead>\n",
       "    <tr style=\"text-align: right;\">\n",
       "      <th></th>\n",
       "      <th>date</th>\n",
       "      <th>subsite_title</th>\n",
       "      <th>conversion</th>\n",
       "      <th>retention</th>\n",
       "    </tr>\n",
       "  </thead>\n",
       "  <tbody>\n",
       "    <tr>\n",
       "      <th>0</th>\n",
       "      <td>2019-06-01</td>\n",
       "      <td>Windows 10</td>\n",
       "      <td>0.197802</td>\n",
       "      <td>0.084732</td>\n",
       "    </tr>\n",
       "    <tr>\n",
       "      <th>1</th>\n",
       "      <td>2019-06-01</td>\n",
       "      <td>xboxOne</td>\n",
       "      <td>0.200704</td>\n",
       "      <td>0.151134</td>\n",
       "    </tr>\n",
       "    <tr>\n",
       "      <th>2</th>\n",
       "      <td>2019-06-02</td>\n",
       "      <td>Windows 10</td>\n",
       "      <td>0.287532</td>\n",
       "      <td>0.096525</td>\n",
       "    </tr>\n",
       "    <tr>\n",
       "      <th>3</th>\n",
       "      <td>2019-06-02</td>\n",
       "      <td>xboxOne</td>\n",
       "      <td>0.270677</td>\n",
       "      <td>0.172030</td>\n",
       "    </tr>\n",
       "    <tr>\n",
       "      <th>4</th>\n",
       "      <td>2019-06-03</td>\n",
       "      <td>Windows 10</td>\n",
       "      <td>0.439331</td>\n",
       "      <td>0.093704</td>\n",
       "    </tr>\n",
       "    <tr>\n",
       "      <th>...</th>\n",
       "      <td>...</td>\n",
       "      <td>...</td>\n",
       "      <td>...</td>\n",
       "      <td>...</td>\n",
       "    </tr>\n",
       "    <tr>\n",
       "      <th>179</th>\n",
       "      <td>2019-08-29</td>\n",
       "      <td>xboxOne</td>\n",
       "      <td>0.374055</td>\n",
       "      <td>0.000000</td>\n",
       "    </tr>\n",
       "    <tr>\n",
       "      <th>180</th>\n",
       "      <td>2019-08-30</td>\n",
       "      <td>Windows 10</td>\n",
       "      <td>0.423216</td>\n",
       "      <td>0.000000</td>\n",
       "    </tr>\n",
       "    <tr>\n",
       "      <th>181</th>\n",
       "      <td>2019-08-30</td>\n",
       "      <td>xboxOne</td>\n",
       "      <td>0.383515</td>\n",
       "      <td>0.000000</td>\n",
       "    </tr>\n",
       "    <tr>\n",
       "      <th>182</th>\n",
       "      <td>2019-08-31</td>\n",
       "      <td>Windows 10</td>\n",
       "      <td>0.482902</td>\n",
       "      <td>0.000000</td>\n",
       "    </tr>\n",
       "    <tr>\n",
       "      <th>183</th>\n",
       "      <td>2019-08-31</td>\n",
       "      <td>xboxOne</td>\n",
       "      <td>0.365867</td>\n",
       "      <td>0.000000</td>\n",
       "    </tr>\n",
       "  </tbody>\n",
       "</table>\n",
       "<p>184 rows × 4 columns</p>\n",
       "</div>"
      ],
      "text/plain": [
       "           date subsite_title  conversion  retention\n",
       "0    2019-06-01    Windows 10    0.197802   0.084732\n",
       "1    2019-06-01       xboxOne    0.200704   0.151134\n",
       "2    2019-06-02    Windows 10    0.287532   0.096525\n",
       "3    2019-06-02       xboxOne    0.270677   0.172030\n",
       "4    2019-06-03    Windows 10    0.439331   0.093704\n",
       "..          ...           ...         ...        ...\n",
       "179  2019-08-29       xboxOne    0.374055   0.000000\n",
       "180  2019-08-30    Windows 10    0.423216   0.000000\n",
       "181  2019-08-30       xboxOne    0.383515   0.000000\n",
       "182  2019-08-31    Windows 10    0.482902   0.000000\n",
       "183  2019-08-31       xboxOne    0.365867   0.000000\n",
       "\n",
       "[184 rows x 4 columns]"
      ]
     },
     "execution_count": 146,
     "metadata": {},
     "output_type": "execute_result"
    }
   ],
   "source": [
    "\n",
    "sql_str = \"\"\"\n",
    "SELECT\n",
    "    date,\n",
    "    subsite_title,\n",
    "    SUM(content_watch)::float / SUM(content_impression)::float as conversion\n",
    "FROM (\n",
    "    SELECT\n",
    "        user_id_for_mai,\n",
    "        content_id,\n",
    "        subsite_title,\n",
    "        to_char(to_timestamp(rocket_datetime), 'YYYY-MM-DD') as date,\n",
    "        MAX(CASE WHEN name in ('page_impression', 'click') THEN 1 ELSE 0 END) as content_impression,\n",
    "        MAX(CASE WHEN name='content_watch' THEN 1 ELSE 0 END) as content_watch\n",
    "    FROM movie.events\n",
    "    WHERE\n",
    "        content_id > 0\n",
    "        AND subsite_title in ('xboxOne', 'Windows 10')\n",
    "    GROUP BY user_id_for_mai, content_id, date, subsite_title\n",
    ") as content_watches\n",
    "WHERE\n",
    "    content_impression > 0\n",
    "GROUP BY date, subsite_title\n",
    "ORDER BY date, subsite_title\n",
    "\n",
    "\"\"\"\n",
    "\n",
    "conversion_df = pd.read_sql(sql_str, engine)\n",
    "\n",
    "conversion_df['retention'] = conversion_df.apply(lambda x: retention(x['date'],x['subsite_title']), axis=1)\n",
    "conversion_df"
   ]
  },
  {
   "cell_type": "code",
   "execution_count": 147,
   "metadata": {},
   "outputs": [
    {
     "data": {
      "text/plain": [
       "<matplotlib.axes._subplots.AxesSubplot at 0x7fdaacada5f8>"
      ]
     },
     "execution_count": 147,
     "metadata": {},
     "output_type": "execute_result"
    },
    {
     "data": {
      "image/png": "[encoded data removed]",
      "text/plain": [
       "<Figure size 432x288 with 1 Axes>"
      ]
     },
     "metadata": {
      "needs_background": "light"
     },
     "output_type": "display_data"
    }
   ],
   "source": [
    "%matplotlib inline\n",
    "\n",
    "df1 = conversion_df[conversion_df['subsite_title']=='Windows 10']\n",
    "df2 = conversion_df[conversion_df['subsite_title']=='xboxOne']\n",
    "\n",
    "ax = df1.plot(x='date', y='retention', label='Windows 10')\n",
    "df2.plot(x='date', y='retention', ax=ax, label='xboxOne')"
   ]
  },
  {
   "cell_type": "code",
   "execution_count": 148,
   "metadata": {},
   "outputs": [
    {
     "data": {
      "text/plain": [
       "<matplotlib.axes._subplots.AxesSubplot at 0x7fdaac9ac390>"
      ]
     },
     "execution_count": 148,
     "metadata": {},
     "output_type": "execute_result"
    },
    {
     "data": {
      "image/png": "[encoded data removed]",
      "text/plain": [
       "<Figure size 432x288 with 1 Axes>"
      ]
     },
     "metadata": {
      "needs_background": "light"
     },
     "output_type": "display_data"
    }
   ],
   "source": [
    "# Windows 10\n",
    "ax = conversion_df[\n",
    "    conversion_df['subsite_title']=='Windows 10'\n",
    "]['retention'].plot(kind='hist', alpha=0.5, bins=13, label='Windows 10', legend=True)\n",
    "\n",
    "# xboxOne\n",
    "conversion_df[\n",
    "    conversion_df['subsite_title']=='xboxOne'\n",
    "]['retention'].plot(kind='hist', alpha=0.5, bins=12, label='xboxOne', legend=True)"
   ]
  },
  {
   "cell_type": "markdown",
   "metadata": {},
   "source": [
    "# Часть II статистические гипотезы"
   ]
  },
  {
   "cell_type": "markdown",
   "metadata": {},
   "source": [
    "### Задача 3: Предсказательный интервал\n",
    "\n",
    "пусть результат эксперимента представляет собой нормально распределённую СВ $X\\sim N(\\mu, \\sigma)$. Тогда предсказательный интервал имеет вид\n",
    "$$\n",
    "P\\left(\\mu - Z_{\\frac{\\alpha}{2}}\\sigma \\le X \\le \\mu + Z_{\\frac{\\alpha}{2}} \\right) = 1 - \\alpha\n",
    "$$\n",
    "\n",
    "для тренировки сгенерируйте решите задачу: постройте предсказательный интервал для случайной величины $X\\sim N(\\mu, \\sigma)$:"
   ]
  },
  {
   "cell_type": "code",
   "execution_count": 149,
   "metadata": {},
   "outputs": [
    {
     "name": "stdout",
     "output_type": "stream",
     "text": [
      "z_05 = None, z_95 = None\n"
     ]
    }
   ],
   "source": [
    "from scipy.stats import norm\n",
    "\n",
    "mu = 5\n",
    "sigma = 0.9\n",
    "# используйте функцию ppf - Percent point function (обратная к кумулятивной функции (функции вероятности) cdf)\n",
    "\n",
    "z_05 = None\n",
    "z_95 = None\n",
    "\n",
    "print(f\"z_05 = {z_05}, z_95 = {z_95}\")"
   ]
  },
  {
   "cell_type": "markdown",
   "metadata": {},
   "source": [
    "Проверка на правильность решения"
   ]
  },
  {
   "cell_type": "code",
   "execution_count": 150,
   "metadata": {},
   "outputs": [
    {
     "name": "stderr",
     "output_type": "stream",
     "text": [
      "test_task (__main__.TestNotebook) ... ERROR\n",
      "\n",
      "======================================================================\n",
      "ERROR: test_task (__main__.TestNotebook)\n",
      "----------------------------------------------------------------------\n",
      "Traceback (most recent call last):\n",
      "  File \"<ipython-input-150-6092bbca14c6>\", line 5, in test_task\n",
      "    self.assertAlmostEqual(z_05, 3.5196, places=4)\n",
      "  File \"/usr/lib/python3.6/unittest/case.py\", line 871, in assertAlmostEqual\n",
      "    if round(abs(second-first), places) == 0:\n",
      "TypeError: unsupported operand type(s) for -: 'float' and 'NoneType'\n",
      "\n",
      "----------------------------------------------------------------------\n",
      "Ran 1 test in 0.002s\n",
      "\n",
      "FAILED (errors=1)\n"
     ]
    },
    {
     "data": {
      "text/plain": [
       "<unittest.main.TestProgram at 0x7fdaac980940>"
      ]
     },
     "execution_count": 150,
     "metadata": {},
     "output_type": "execute_result"
    }
   ],
   "source": [
    "import unittest\n",
    "\n",
    "class TestNotebook(unittest.TestCase):\n",
    "    def test_task(self):\n",
    "        self.assertAlmostEqual(z_05, 3.5196, places=4)\n",
    "        self.assertAlmostEqual(z_95, 6.4804, places=4)\n",
    "\n",
    "unittest.main(argv=[''], verbosity=2, exit=False)"
   ]
  },
  {
   "cell_type": "markdown",
   "metadata": {},
   "source": [
    "### Задача 4: Доверительный интервал для математического ожидания гауссовской СВ.\n",
    "\n",
    "СВ $X\\sim N(\\mu, \\sigma)$, где $\\sigma$ известный параметр. По результатам эксперимента получили выборку $X^n = \\left( X_1,\\ldots,X_n \\right)$. Задача - оценить по выборке неизвестный параметр $\\mu$.\n",
    "\n",
    "Чтобы построить доверительный интервал параметра $\\mu$ в первую очередь нужно понять, какое распределение имеет параметр, который мы исследуем. В данном случае мы можем воспользоваться результатами ЦПТ:\n",
    "$$\n",
    "\\overline{X} \\sim N\\left(\\mu, \\frac{\\sigma^2}{n}\\right), \\overline{X} = \\frac{\\sum_{i=1}^{n}X_i}{n}\n",
    "$$\n",
    "\n",
    "где $\\overline{X}$ - среднее значение элементов выборки. В таком случае доверительный интервал имеет вид\n",
    "$$\n",
    "P\\left(\\overline{X} - z_{\\alpha/2}\\sqrt{\\sigma^2/n} \\le  \\mu \\le \\overline{X} + z_{\\alpha/2}\\sqrt{\\sigma^2/n}\\right) = 1 - \\alpha\n",
    "$$\n",
    "\n",
    "Для определения значения квантили можно пользоваться функцией `.ppf` из модуля `scipy.stats`."
   ]
  },
  {
   "cell_type": "code",
   "execution_count": 151,
   "metadata": {},
   "outputs": [
    {
     "name": "stdout",
     "output_type": "stream",
     "text": [
      "Оценка математического ожидания по выборке mu = [None, None]\n"
     ]
    }
   ],
   "source": [
    "from scipy.stats import norm\n",
    "import numpy as np\n",
    "\n",
    "mu = 5\n",
    "sigma = 0.9\n",
    "X = np.array([13.27543316, 18.60619498, 28.64266817, 45.4103895, 10.08409655,\n",
    "     44.91948425, 47.23376343, 33.03988962, 31.45570219, 3.089313523])\n",
    "\n",
    "# используйте функцию ppf для нахождения квантили\n",
    "alpha = 0.05\n",
    "\n",
    "n = None\n",
    "left_border = None\n",
    "right_border = None\n",
    "\n",
    "print(f\"Оценка математического ожидания по выборке mu = [{left_border}, {right_border}]\")"
   ]
  },
  {
   "cell_type": "markdown",
   "metadata": {},
   "source": [
    "Тесты на решение"
   ]
  },
  {
   "cell_type": "code",
   "execution_count": 152,
   "metadata": {},
   "outputs": [
    {
     "name": "stderr",
     "output_type": "stream",
     "text": [
      "test_task (__main__.TestNotebook) ... ERROR\n",
      "\n",
      "======================================================================\n",
      "ERROR: test_task (__main__.TestNotebook)\n",
      "----------------------------------------------------------------------\n",
      "Traceback (most recent call last):\n",
      "  File \"<ipython-input-152-015e3b9d4b2c>\", line 5, in test_task\n",
      "    self.assertAlmostEqual(left_border, 28.1335, places=4)\n",
      "  File \"/usr/lib/python3.6/unittest/case.py\", line 871, in assertAlmostEqual\n",
      "    if round(abs(second-first), places) == 0:\n",
      "TypeError: unsupported operand type(s) for -: 'float' and 'NoneType'\n",
      "\n",
      "----------------------------------------------------------------------\n",
      "Ran 1 test in 0.002s\n",
      "\n",
      "FAILED (errors=1)\n"
     ]
    },
    {
     "data": {
      "text/plain": [
       "<unittest.main.TestProgram at 0x7fdaac8e0b38>"
      ]
     },
     "execution_count": 152,
     "metadata": {},
     "output_type": "execute_result"
    }
   ],
   "source": [
    "import unittest\n",
    "\n",
    "class TestNotebook(unittest.TestCase):\n",
    "    def test_task(self):\n",
    "        self.assertAlmostEqual(left_border, 28.1335, places=4)\n",
    "        self.assertAlmostEqual(right_border, 27.0179, places=4)\n",
    "\n",
    "unittest.main(argv=[''], verbosity=2, exit=False)"
   ]
  },
  {
   "cell_type": "markdown",
   "metadata": {},
   "source": [
    "### Задача 5: конверсии\n",
    "\n",
    "#### Вычисление конверсии\n",
    "\n",
    "Посчитайте конверсию по выборке - нужно написать несложный код на python"
   ]
  },
  {
   "cell_type": "code",
   "execution_count": 153,
   "metadata": {},
   "outputs": [
    {
     "name": "stdout",
     "output_type": "stream",
     "text": [
      "[0, 1, 1, 1, 1, 1, 0, 1, 1, 1, 1, 1, 1, 1, 1, 0, 1, 1, 1, 0, 0, 1, 1, 1, 0, 0, 0, 1, 1, 1, 0, 0, 1, 0, 1, 1, 1, 1, 1, 1, 1, 1, 0, 1, 0, 0, 1, 1, 1, 1, 1, 1, 1, 1, 1, 0, 1, 1, 1, 0, 1, 1, 1, 1, 1, 0, 1, 1, 1, 1, 0, 1, 1, 1, 1, 1, 1, 0, 1, 1, 1, 1, 0, 1, 0, 1, 1, 1, 1, 1, 1, 1, 1, 0, 1, 1, 0, 1, 1, 1]\n"
     ]
    }
   ],
   "source": [
    "import pickle\n",
    "\n",
    "with open('data/pool_sample.pkl', 'rb') as f:\n",
    "    pool_data = pickle.load(f)\n",
    "\n",
    "conversion = None\n",
    "# ---- ВАШ КОД ТУТ ---\n",
    "\n",
    "print(pool_data)\n",
    "\n",
    "# --------------------"
   ]
  },
  {
   "cell_type": "markdown",
   "metadata": {},
   "source": [
    "Тесты"
   ]
  },
  {
   "cell_type": "code",
   "execution_count": 154,
   "metadata": {},
   "outputs": [
    {
     "name": "stderr",
     "output_type": "stream",
     "text": [
      "test_task (__main__.TestNotebook) ... ERROR\n",
      "\n",
      "======================================================================\n",
      "ERROR: test_task (__main__.TestNotebook)\n",
      "----------------------------------------------------------------------\n",
      "Traceback (most recent call last):\n",
      "  File \"<ipython-input-154-090997cc5443>\", line 5, in test_task\n",
      "    self.assertAlmostEqual(conversion, 0.77, places=2)\n",
      "  File \"/usr/lib/python3.6/unittest/case.py\", line 871, in assertAlmostEqual\n",
      "    if round(abs(second-first), places) == 0:\n",
      "TypeError: unsupported operand type(s) for -: 'float' and 'NoneType'\n",
      "\n",
      "----------------------------------------------------------------------\n",
      "Ran 1 test in 0.001s\n",
      "\n",
      "FAILED (errors=1)\n"
     ]
    },
    {
     "data": {
      "text/plain": [
       "<unittest.main.TestProgram at 0x7fdaac8d9da0>"
      ]
     },
     "execution_count": 154,
     "metadata": {},
     "output_type": "execute_result"
    }
   ],
   "source": [
    "import unittest\n",
    "\n",
    "class TestNotebook(unittest.TestCase):\n",
    "    def test_task(self):\n",
    "        self.assertAlmostEqual(conversion, 0.77, places=2)\n",
    "\n",
    "unittest.main(argv=[''], verbosity=2, exit=False)"
   ]
  },
  {
   "cell_type": "markdown",
   "metadata": {},
   "source": [
    "#### Репрезентативный объём выборки\n",
    "\n",
    "Значение $n$ выборка будет репрезентативной:\n",
    "\n",
    "$$\n",
    "n = \\left( \\frac{Z_{1-\\frac{\\alpha}{2}}}{\\delta}\\right)^2pq\n",
    "$$\n",
    "\n",
    "Каким образом определить значения $p,q$:\n",
    "1. из прошлых исследований;\n",
    "1. еcли дополнительной информации нет, то выбрать $p=q=\\frac12$;\n",
    "1. если известен интервал для $p\\in[\\alpha, \\beta]$, то нужно выбирать значение, максимально близкое к $\\frac12$\n",
    "\n",
    "За кандидата собираются голосовать 30-40%. Сколько нужно опросить респондентов, чтобы оценить долю голосов за кандидата с точность $2\\%$.\n",
    "\n",
    "Написать функцию, которая рассчитывает объём репрезентативной выборки"
   ]
  },
  {
   "cell_type": "code",
   "execution_count": 155,
   "metadata": {},
   "outputs": [],
   "source": [
    "import math\n",
    "\n",
    "# подсказка - воспользуйтесь функцией math.ceil()\n",
    "\n",
    "def representative_sample_size(alpha, delta, p=None):\n",
    "    \"\"\"Функция для расчёта объёма репрезентативной выборки\n",
    "    \n",
    "    :param alpha: уровень доверия\n",
    "    :param delta: точность\n",
    "    :param p (list | int | None): теоретическая вероятность успеха \n",
    "    :return: \n",
    "    \"\"\"\n",
    "    n = None\n",
    "    # ---- ВАШ КОД ТУТ ---\n",
    "    \n",
    "    \n",
    "    \n",
    "    # --------------------\n",
    "    return n\n",
    "\n",
    "sample_size = representative_sample_size(alpha=0.05, delta=0.03)"
   ]
  },
  {
   "cell_type": "markdown",
   "metadata": {},
   "source": [
    "Тесты"
   ]
  },
  {
   "cell_type": "code",
   "execution_count": 156,
   "metadata": {},
   "outputs": [
    {
     "name": "stderr",
     "output_type": "stream",
     "text": [
      "test_task (__main__.TestNotebook) ... FAIL\n",
      "\n",
      "======================================================================\n",
      "FAIL: test_task (__main__.TestNotebook)\n",
      "----------------------------------------------------------------------\n",
      "Traceback (most recent call last):\n",
      "  File \"<ipython-input-156-0a6cef3e425b>\", line 7, in test_task\n",
      "    self.assertEqual(sample_size, 1025)\n",
      "AssertionError: None != 1025\n",
      "\n",
      "----------------------------------------------------------------------\n",
      "Ran 1 test in 0.002s\n",
      "\n",
      "FAILED (failures=1)\n"
     ]
    },
    {
     "data": {
      "text/plain": [
       "<unittest.main.TestProgram at 0x7fdaac8ed6a0>"
      ]
     },
     "execution_count": 156,
     "metadata": {},
     "output_type": "execute_result"
    }
   ],
   "source": [
    "import unittest\n",
    "\n",
    "sample_size = representative_sample_size(alpha=0.05, delta=0.03, p=0.4)\n",
    "\n",
    "class TestNotebook(unittest.TestCase):\n",
    "    def test_task(self):\n",
    "        self.assertEqual(sample_size, 1025)\n",
    "\n",
    "unittest.main(argv=[''], verbosity=2, exit=False)"
   ]
  },
  {
   "cell_type": "markdown",
   "metadata": {},
   "source": [
    "#### Моделирование данных\n",
    "\n",
    "Смоделируйте эксперимент с соц-опросом с помощью распределения Бернулли\n",
    "\n",
    "* сгенерируйте выборку того размера, который рассчитали\n",
    "* посчитайте прогнозируемый рейтинг кандидата "
   ]
  },
  {
   "cell_type": "code",
   "execution_count": 157,
   "metadata": {},
   "outputs": [
    {
     "name": "stdout",
     "output_type": "stream",
     "text": [
      "Размер выборки: None\n"
     ]
    }
   ],
   "source": [
    "import scipy.stats as sts\n",
    "\n",
    "# ---- ВАШ КОД ТУТ ---\n",
    "\n",
    "p = 0.4  # задайте тут правильное значение\n",
    "print(f'Размер выборки: {sample_size}') # sample_size должна была сохраниться с предыдущей ячейки\n",
    "\n",
    "bernoulli_rv = sts.bernoulli(p) # эту часть менять не надо\n",
    "\n",
    "# поищите в документации как генерить выборки\n",
    "# вызовите правильный метод объекта bernoulli_rv\n",
    "# используйте параметр random_state = 42\n",
    "\n",
    "\n",
    "estimated_rating = 999\n",
    "\n",
    "# --------------------\n",
    "\n"
   ]
  },
  {
   "cell_type": "markdown",
   "metadata": {},
   "source": [
    "Тесты - проверяем рейтинг"
   ]
  },
  {
   "cell_type": "code",
   "execution_count": 158,
   "metadata": {},
   "outputs": [
    {
     "name": "stderr",
     "output_type": "stream",
     "text": [
      "test_task (__main__.TestNotebook) ... FAIL\n",
      "\n",
      "======================================================================\n",
      "FAIL: test_task (__main__.TestNotebook)\n",
      "----------------------------------------------------------------------\n",
      "Traceback (most recent call last):\n",
      "  File \"<ipython-input-158-528380472422>\", line 5, in test_task\n",
      "    self.assertAlmostEqual(estimated_rating, 0.3922, places=4)\n",
      "AssertionError: 999 != 0.3922 within 4 places\n",
      "\n",
      "----------------------------------------------------------------------\n",
      "Ran 1 test in 0.002s\n",
      "\n",
      "FAILED (failures=1)\n"
     ]
    },
    {
     "data": {
      "text/plain": [
       "<unittest.main.TestProgram at 0x7fdaac8fdc88>"
      ]
     },
     "execution_count": 158,
     "metadata": {},
     "output_type": "execute_result"
    }
   ],
   "source": [
    "import unittest\n",
    "\n",
    "class TestNotebook(unittest.TestCase):\n",
    "    def test_task(self):\n",
    "        self.assertAlmostEqual(estimated_rating, 0.3922, places=4)\n",
    "\n",
    "unittest.main(argv=[''], verbosity=2, exit=False)"
   ]
  },
  {
   "cell_type": "markdown",
   "metadata": {},
   "source": [
    "## Задача на одновыборочный z-критерий\n",
    "\n",
    "\n",
    "Статиcтика критерия:\n",
    "$$\n",
    "Z(X^n) = \\frac{\\overline{X}- μ_0}{\\frac{\\sigma}{\\sqrt{n}}}\n",
    "$$\n",
    "\n",
    "Нулевое распределение: \n",
    "$$\n",
    "Z(X^n) \\sim N(0,1)\n",
    "$$\n",
    "\n",
    "На уровне значимости $\\alpha$ гипотеза $H_0$ отвергается при значении статистики $Z(X^n)=z$ таком, что $z \\lt z_\\alpha$, где $z_\\alpha$ - значение квантили нормального распределения уровня $\\alpha$.\n",
    "\n",
    "\n",
    "Средняя масса детей в неблагополучных семьях при рождении 2.8 кг.\n",
    "В экспериментальной программе ведения беременности участвовали 25 женщин.\t\n",
    "Средний вес младенцев в экспериментальной группе составил 3.075 кг.\n",
    "Является ли данное отклонение статистически значимым на уровне доверительной вероятности $\\alpha=0.05$? Исходя из прошлых иследований известно, что вес имеет нормальное распределение с $\\sigma = 0.5$\n",
    "\n",
    "Основная гипотеза H0:\t\tX_среднее = 2.8\n",
    "\n",
    "Альтернативная гипотеза H1\t\tX_среднее > 2.8"
   ]
  },
  {
   "cell_type": "code",
   "execution_count": 159,
   "metadata": {},
   "outputs": [
    {
     "name": "stdout",
     "output_type": "stream",
     "text": [
      "Является ли отклонение значимым False\n"
     ]
    }
   ],
   "source": [
    "from scipy.stats import norm\n",
    "\n",
    "# Размер выборки\n",
    "n = 25\n",
    "# С.К.О.\n",
    "sigma = 0.5\n",
    "# Уровень доверия \n",
    "alpha = 0.05\n",
    "# Значение квантили\n",
    "z_095 = norm.ppf(q=1-alpha)\n",
    "# Ср. знач. в ген. совокупности\n",
    "global_mean = 2.8\n",
    "# Ср. знач. в эксперименте\n",
    "sample_mean = 3.075\n",
    "\n",
    "# ---- ВАШ КОД ТУТ ---\n",
    "\n",
    "\n",
    "# Считаем статистику\n",
    "Z_x = 0\n",
    "# Критическая область:\n",
    "Z_critical = 0\n",
    "print(\"Является ли отклонение значимым {}\".format(Z_x > Z_critical))\n",
    "\n",
    "\n",
    "# --------------------"
   ]
  },
  {
   "cell_type": "markdown",
   "metadata": {},
   "source": [
    "Тесты - проверяем, что правильно вычислено значение статистики"
   ]
  },
  {
   "cell_type": "code",
   "execution_count": 160,
   "metadata": {},
   "outputs": [
    {
     "name": "stderr",
     "output_type": "stream",
     "text": [
      "test_task (__main__.TestNotebook) ... FAIL\n",
      "\n",
      "======================================================================\n",
      "FAIL: test_task (__main__.TestNotebook)\n",
      "----------------------------------------------------------------------\n",
      "Traceback (most recent call last):\n",
      "  File \"<ipython-input-160-94fa367bac92>\", line 5, in test_task\n",
      "    self.assertAlmostEqual(Z_x, 2.75, places=2)\n",
      "AssertionError: 0 != 2.75 within 2 places\n",
      "\n",
      "----------------------------------------------------------------------\n",
      "Ran 1 test in 0.002s\n",
      "\n",
      "FAILED (failures=1)\n"
     ]
    },
    {
     "data": {
      "text/plain": [
       "<unittest.main.TestProgram at 0x7fdaac8d4128>"
      ]
     },
     "execution_count": 160,
     "metadata": {},
     "output_type": "execute_result"
    }
   ],
   "source": [
    "import unittest\n",
    "\n",
    "class TestNotebook(unittest.TestCase):\n",
    "    def test_task(self):\n",
    "        self.assertAlmostEqual(Z_x, 2.75, places=2)\n",
    "\n",
    "unittest.main(argv=[''], verbosity=2, exit=False)"
   ]
  },
  {
   "cell_type": "markdown",
   "metadata": {},
   "source": [
    "### Задача на проверку z-критерия\n",
    "\n",
    "На прошедшей неделе в рекламной сети параллельно размещалось два баннера Яндекс.Такси. Оба баннера были показаны один миллион раз. Первый получил 10 000 кликов и 500 установок, а второй — 10 500 кликов и 440 установок. Маркетолог просит у вас совета: какой баннер оставить, а какой отключить? Что вы ему ответите?\n",
    "\n",
    "Статистика критерия\n",
    "$$\n",
    "Z(X^{n_1}, X^{n_2}) = \\frac{\\hat{p}_1 - \\hat{p}_2}{\\sqrt{\\hat{p}(1-\\hat{p})\\left(\\frac{1}{n_1} + \\frac{1}{n_2}\\right)}}, Z(X^{n_1}, X^{n_2}) \\sim (N(0,1)\n",
    "$$\n",
    "\n",
    "где $\\hat{p}_{(1,2)}$ - доля успехов в выборках 1 и 2 и\n",
    "$$\n",
    "\\hat{p}=\\frac{(p_1n_1+ p_2n_2  )}{n_1+ n_2}\n",
    "$$\n"
   ]
  },
  {
   "cell_type": "code",
   "execution_count": 161,
   "metadata": {},
   "outputs": [
    {
     "name": "stdout",
     "output_type": "stream",
     "text": [
      "Верная ли нулевая гипотеза о равенстве долей: False\n"
     ]
    }
   ],
   "source": [
    "#banner 1\n",
    "n1_click = None\n",
    "n1_installs = None\n",
    "\n",
    "#banner 2\n",
    "n2_click = None\n",
    "n2_installs = None\n",
    "\n",
    "# ctr\n",
    "p1 = None\n",
    "p2 = None\n",
    "\n",
    "# значение статистики критерия\n",
    "T_x = 0\n",
    "\n",
    "# квантиль уровня 0.95 нормального распределения\n",
    "z_095 = 0\n",
    "\n",
    "print(\"Верная ли нулевая гипотеза о равенстве долей: {}\".format(T_x > z_095))"
   ]
  },
  {
   "cell_type": "markdown",
   "metadata": {},
   "source": [
    "Тесты - проверяем, что правильно вычислено значение статистики"
   ]
  },
  {
   "cell_type": "code",
   "execution_count": 162,
   "metadata": {},
   "outputs": [
    {
     "name": "stderr",
     "output_type": "stream",
     "text": [
      "test_task (__main__.TestNotebook) ... FAIL\n",
      "\n",
      "======================================================================\n",
      "FAIL: test_task (__main__.TestNotebook)\n",
      "----------------------------------------------------------------------\n",
      "Traceback (most recent call last):\n",
      "  File \"<ipython-input-162-38b70630405a>\", line 5, in test_task\n",
      "    self.assertAlmostEqual(T_x, 2.7698, places=4)\n",
      "AssertionError: 0 != 2.7698 within 4 places\n",
      "\n",
      "----------------------------------------------------------------------\n",
      "Ran 1 test in 0.001s\n",
      "\n",
      "FAILED (failures=1)\n"
     ]
    },
    {
     "data": {
      "text/plain": [
       "<unittest.main.TestProgram at 0x7fdaac8ed160>"
      ]
     },
     "execution_count": 162,
     "metadata": {},
     "output_type": "execute_result"
    }
   ],
   "source": [
    "import unittest\n",
    "\n",
    "class TestNotebook(unittest.TestCase):\n",
    "    def test_task(self):\n",
    "        self.assertAlmostEqual(T_x, 2.7698, places=4)\n",
    "\n",
    "unittest.main(argv=[''], verbosity=2, exit=False)"
   ]
  },
  {
   "cell_type": "markdown",
   "metadata": {},
   "source": [
    "### Проверка продуктовых гипотез\n",
    "\n",
    "Вернитесь к I части этой домашней работы. Проверьте с помощь статистических критерий несколько гипотез\n",
    "\n",
    "* конверсия на Windows выше, чем на XboX\n",
    "* конверсия в Украине  отличается от конверсии в России\n",
    "* retention на XboX ниже, чем retention на Windows 10\n",
    "\n",
    "Для проверки пользуйтесь готовыми критериями из статистических пакетов python\n"
   ]
  },
  {
   "cell_type": "code",
   "execution_count": 163,
   "metadata": {},
   "outputs": [
    {
     "name": "stdout",
     "output_type": "stream",
     "text": [
      "\n"
     ]
    }
   ],
   "source": [
    "import scipy.stats as sts\n",
    "\n",
    "# ---- ВАШ КОД ТУТ ---\n",
    "\n",
    "\n",
    "# --------------------\n",
    "\n",
    "print()"
   ]
  },
  {
   "cell_type": "code",
   "execution_count": null,
   "metadata": {},
   "outputs": [],
   "source": []
  }
 ],
 "metadata": {
  "kernelspec": {
   "display_name": "Python 3",
   "language": "python",
   "name": "python3"
  },
  "language_info": {
   "codemirror_mode": {
    "name": "ipython",
    "version": 3
   },
   "file_extension": ".py",
   "mimetype": "text/x-python",
   "name": "python",
   "nbconvert_exporter": "python",
   "pygments_lexer": "ipython3",
   "version": "3.6.9"
  }
 },
 "nbformat": 4,
 "nbformat_minor": 4
}
